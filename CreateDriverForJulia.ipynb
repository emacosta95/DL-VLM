{
 "cells": [
  {
   "cell_type": "code",
   "execution_count": null,
   "id": "133d2941",
   "metadata": {},
   "outputs": [
    {
     "name": "stdout",
     "output_type": "stream",
     "text": [
      "(200,)\n"
     ]
    }
   ],
   "source": [
    "import numpy as np\n",
    "amplitude_max=2\n",
    "amplitude_min=0\n",
    "tf = 20\n",
    "\n",
    "steps = 400\n",
    "time=np.linspace(0,tf,steps)\n",
    "dt=tf/steps\n",
    "rate_min=0\n",
    "rate_max=4 #1/(7*dt)\n",
    "\n",
    "rate_cutoff = 10\n",
    "rate=np.random.uniform(rate_min,rate_max,size=rate_cutoff)#rate_mean+rate_sigma*np.random.normal(size=rate_cutoff)\n",
    "delta = np.random.uniform(amplitude_min,amplitude_max,size=(rate_cutoff))\n",
    "\n",
    "h = (\n",
    "delta[:, None]\n",
    "* ((np.cos(np.pi+time[None, :] * rate[:, None])+1))\n",
    ")\n",
    "\n",
    "h = np.average(h, axis=0)\n",
    "\n",
    "print(h.shape)\n",
    "\n",
    "np.save('data/driver_for_julia_3',h)\n"
   ]
  }
 ],
 "metadata": {
  "kernelspec": {
   "display_name": "dft_env",
   "language": "python",
   "name": "python3"
  },
  "language_info": {
   "codemirror_mode": {
    "name": "ipython",
    "version": 3
   },
   "file_extension": ".py",
   "mimetype": "text/x-python",
   "name": "python",
   "nbconvert_exporter": "python",
   "pygments_lexer": "ipython3",
   "version": "3.9.7"
  }
 },
 "nbformat": 4,
 "nbformat_minor": 5
}
