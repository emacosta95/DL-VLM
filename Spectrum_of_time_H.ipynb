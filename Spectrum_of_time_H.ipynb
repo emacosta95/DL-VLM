{
 "cells": [
  {
   "cell_type": "markdown",
   "metadata": {},
   "source": [
    "## Spectrum of the Instantanous Hamiltonian"
   ]
  },
  {
   "cell_type": "markdown",
   "metadata": {},
   "source": [
    "Imports"
   ]
  },
  {
   "cell_type": "code",
   "execution_count": 7,
   "metadata": {},
   "outputs": [],
   "source": [
    "from src.qutip_lab.qutip_class import SpinOperator, SpinHamiltonian, SteadyStateSolver\n",
    "from tqdm.notebook import trange \n",
    "import numpy as np\n",
    "import matplotlib.pyplot as plt\n",
    "import qutip"
   ]
  },
  {
   "cell_type": "markdown",
   "metadata": {},
   "source": [
    "Data"
   ]
  },
  {
   "cell_type": "code",
   "execution_count": null,
   "metadata": {},
   "outputs": [],
   "source": [
    "# time=np.linspace(0,20,2000)\n",
    "# h=np.ones((1,2000,2,8))\n",
    "\n",
    "# hi=2.\n",
    "# hf=1.\n",
    "# delta=0.5\n",
    "# rate=1.\n",
    "\n",
    "# # build up the field\n",
    "# h[0,:,0,:]=hi*np.exp(-rate*time)+hf*(1-np.exp(-rate*time))"
   ]
  },
  {
   "cell_type": "markdown",
   "metadata": {},
   "source": [
    "Span of the fields"
   ]
  },
  {
   "cell_type": "code",
   "execution_count": 50,
   "metadata": {},
   "outputs": [],
   "source": [
    "linear_grid=1\n",
    "h=np.ones((linear_grid))\n",
    "omega=np.ones((linear_grid))\n",
    "\n",
    "h[:]=np.linspace(3,3,linear_grid)\n",
    "omega=np.linspace(3,3,linear_grid)\n",
    "l=3\n",
    "id=np.ones(l)"
   ]
  },
  {
   "cell_type": "code",
   "execution_count": 51,
   "metadata": {},
   "outputs": [
    {
     "data": {
      "application/vnd.jupyter.widget-view+json": {
       "model_id": "fd23cc65a1f445d6a8dc0ad1f30cfc18",
       "version_major": 2,
       "version_minor": 0
      },
      "text/plain": [
       "  0%|          | 0/1 [00:00<?, ?it/s]"
      ]
     },
     "metadata": {},
     "output_type": "display_data"
    },
    {
     "name": "stdout",
     "output_type": "stream",
     "text": [
      "[-0.05604269+0.j  0.13529903+0.j  0.13529903+0.j -0.32664074+0.j\n",
      "  0.13529903+0.j -0.32664074+0.j -0.32664074+0.j  0.78858051+0.j]\n"
     ]
    }
   ],
   "source": [
    "spectrum=np.ones((3,linear_grid,linear_grid))\n",
    "m=np.zeros((linear_grid,linear_grid,3))\n",
    "for j in trange(linear_grid):\n",
    "    for i in range(linear_grid):\n",
    "        ham0 = SpinHamiltonian(\n",
    "            direction_couplings=[(\"z\", \"z\")],\n",
    "            pbc=True,\n",
    "            coupling_values=[1.0],\n",
    "            size=l,\n",
    "        )\n",
    "\n",
    "        hamExtX = SpinOperator(\n",
    "            index=[(\"x\", i) for i in range(l)], coupling=omega[j]*id, size=l\n",
    "        )\n",
    "        hamExtZ = SpinOperator(\n",
    "            index=[(\"z\", i) for i in range(l)], coupling=h[i]*id, size=l\n",
    "        )\n",
    "\n",
    "        eng_sp, psi0 = np.linalg.eigh(hamExtZ.qutip_op + hamExtX.qutip_op)\n",
    "        print(psi0[:,0])\n",
    "        psi0 = qutip.Qobj(psi0[:, 0], shape=psi0.shape, dims=([[2 for i in range(l)], [1]]))\n",
    "        x_op = SpinOperator(\n",
    "            index=[(\"x\", 0) ], coupling=[1], size=l\n",
    "        )\n",
    "        y_op = SpinOperator(\n",
    "            index=[(\"y\", 0) ], coupling=[1], size=l\n",
    "        )\n",
    "\n",
    "        z_op = SpinOperator(\n",
    "            index=[(\"z\", 0) ], coupling=[1], size=l\n",
    "        )\n",
    "        \n",
    "        \n",
    "        m[i,j,0]=x_op.expect_value(psi0)\n",
    "        m[i,j,1]=y_op.expect_value(psi0)\n",
    "        m[i,j,2]=z_op.expect_value(psi0)\n",
    "        \n",
    "        \n",
    "        \n",
    "        #spectrum[:,j,i]=eng_sp[:3]\n",
    "        "
   ]
  },
  {
   "cell_type": "markdown",
   "metadata": {},
   "source": [
    "Check the magnetization"
   ]
  },
  {
   "cell_type": "code",
   "execution_count": 52,
   "metadata": {},
   "outputs": [
    {
     "name": "stdout",
     "output_type": "stream",
     "text": [
      "[[0.]]\n",
      "  (0, 0)\t(-0.056042691145995485+0j)\n",
      "  (1, 0)\t(0.1352990250365489+0j)\n",
      "  (2, 0)\t(0.13529902503654923+0j)\n",
      "  (3, 0)\t(-0.3266407412190939+0j)\n",
      "  (4, 0)\t(0.1352990250365491+0j)\n",
      "  (5, 0)\t(-0.32664074121909403+0j)\n",
      "  (6, 0)\t(-0.32664074121909414+0j)\n",
      "  (7, 0)\t(0.7885805074747376+0j)\n"
     ]
    }
   ],
   "source": [
    "print(m[:,:,1])\n",
    "#print(spectrum[:,4,4])\n",
    "print(psi0.data)\n",
    "#print(y_op.qutip_op.data)"
   ]
  },
  {
   "cell_type": "markdown",
   "metadata": {},
   "source": [
    "Plot of the Spectrum"
   ]
  },
  {
   "cell_type": "code",
   "execution_count": 29,
   "metadata": {},
   "outputs": [
    {
     "name": "stdout",
     "output_type": "stream",
     "text": [
      "[-8. -8. -4.]\n"
     ]
    },
    {
     "data": {
      "image/png": "[encoded data removed]",
      "text/plain": [
       "<Figure size 720x720 with 2 Axes>"
      ]
     },
     "metadata": {
      "needs_background": "light"
     },
     "output_type": "display_data"
    }
   ],
   "source": [
    "fig=plt.figure(figsize=(10,10))\n",
    "plt.title(r'$\\log(s)$',fontsize=40)\n",
    "print(spectrum[:,0,0])\n",
    "plt.imshow(np.log(np.abs(spectrum[1]-spectrum[0] +10**-10)))\n",
    "xticks_label=np.linspace(0,3,5)\n",
    "yticks_label=np.linspace(0,3,5)\n",
    "plt.xticks(np.arange(0,linear_grid,linear_grid//5),xticks_label)\n",
    "plt.xlabel(r'$h$',fontsize=40)\n",
    "plt.ylabel(r'$\\Omega$',fontsize=40)\n",
    "plt.yticks(np.arange(0,linear_grid,linear_grid//5),yticks_label)\n",
    "plt.colorbar()\n",
    "plt.show()\n"
   ]
  },
  {
   "cell_type": "markdown",
   "metadata": {},
   "source": []
  }
 ],
 "metadata": {
  "kernelspec": {
   "display_name": "dft_env",
   "language": "python",
   "name": "python3"
  },
  "language_info": {
   "codemirror_mode": {
    "name": "ipython",
    "version": 3
   },
   "file_extension": ".py",
   "mimetype": "text/x-python",
   "name": "python",
   "nbconvert_exporter": "python",
   "pygments_lexer": "ipython3",
   "version": "3.9.7"
  },
  "orig_nbformat": 4
 },
 "nbformat": 4,
 "nbformat_minor": 2
}
