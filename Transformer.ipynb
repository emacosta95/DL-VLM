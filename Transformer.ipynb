{
 "cells": [
  {
   "cell_type": "markdown",
   "id": "1a7aa280",
   "metadata": {},
   "source": [
    "## Trasnfer learning of a sequence to sequence transformer"
   ]
  },
  {
   "cell_type": "code",
   "execution_count": 2,
   "id": "f2ccfaea",
   "metadata": {},
   "outputs": [],
   "source": [
    "from transformers import TimeSeriesTransformerConfig, TimeSeriesTransformerModel\n",
    "import torch\n",
    "import torch.nn as nn\n",
    "\n",
    "class TimeSeriesTransformer(nn.Module):\n",
    "    def __init__(self, input_dim=1, model_dim=256, num_heads=4, num_layers=2, dropout=0.1):\n",
    "        super().__init__()\n",
    "        self.input_proj = nn.Linear(input_dim, model_dim)\n",
    "        self.positional_encoding = PositionalEncoding(model_dim)\n",
    "\n",
    "        encoder_layer = nn.TransformerEncoderLayer(d_model=model_dim, nhead=num_heads, dropout=dropout, batch_first=True)\n",
    "        self.transformer_encoder = nn.TransformerEncoder(encoder_layer, num_layers=num_layers)\n",
    "\n",
    "        self.output_proj = nn.Linear(model_dim, 1)\n",
    "\n",
    "    def forward(self, x):\n",
    "        # x shape: [batch, time, 1]\n",
    "        x = self.input_proj(x)                     # [batch, time, model_dim]\n",
    "        x = self.positional_encoding(x)           # Add position info\n",
    "        x = self.transformer_encoder(x)           # [batch, time, model_dim]\n",
    "        return self.output_proj(x)                # [batch, time, 1]\n",
    "\n",
    "\n",
    "class PositionalEncoding(nn.Module):\n",
    "    def __init__(self, d_model, max_len=5000):\n",
    "        super().__init__()\n",
    "        pe = torch.zeros(max_len, d_model)\n",
    "        position = torch.arange(0, max_len, dtype=torch.float32).unsqueeze(1)\n",
    "        div_term = torch.exp(torch.arange(0, d_model, 2).float() * (-torch.log(torch.tensor(10000.0)) / d_model))\n",
    "\n",
    "        pe[:, 0::2] = torch.sin(position * div_term)\n",
    "        pe[:, 1::2] = torch.cos(position * div_term)\n",
    "        pe = pe.unsqueeze(0)  # [1, max_len, d_model]\n",
    "        self.register_buffer('pe', pe)\n",
    "\n",
    "    def forward(self, x):\n",
    "        x = x + self.pe[:, :x.size(1)]\n",
    "        return x"
   ]
  },
  {
   "cell_type": "code",
   "execution_count": 3,
   "id": "45d45a43",
   "metadata": {},
   "outputs": [],
   "source": [
    "import torch\n",
    "import torch.nn as nn\n",
    "\n",
    "class PositionalEncoding(nn.Module):\n",
    "    def __init__(self, d_model, max_len=1000):\n",
    "        super().__init__()\n",
    "        pe = torch.zeros(max_len, d_model)\n",
    "        position = torch.arange(0, max_len).unsqueeze(1).float()\n",
    "        div_term = torch.exp(torch.arange(0, d_model, 2).float() * (-torch.log(torch.tensor(10000.0)) / d_model))\n",
    "        pe[:, 0::2] = torch.sin(position * div_term)\n",
    "        pe[:, 1::2] = torch.cos(position * div_term)\n",
    "        pe = pe.unsqueeze(0)  # [1, max_len, d_model]\n",
    "        self.register_buffer('pe', pe)\n",
    "\n",
    "    def forward(self, x):\n",
    "        return x + self.pe[:, :x.size(1)]\n",
    "\n",
    "\n",
    "class AutoregressiveTimeSeriesTransformer(nn.Module):\n",
    "    def __init__(self, input_dim=2, model_dim=256, num_heads=4, num_layers=2, dropout=0.1, max_len=1000):\n",
    "        super().__init__()\n",
    "        self.input_proj = nn.Linear(input_dim, model_dim)\n",
    "        self.positional_encoding = PositionalEncoding(model_dim, max_len)\n",
    "\n",
    "        encoder_layer = nn.TransformerEncoderLayer(\n",
    "            d_model=model_dim,\n",
    "            nhead=num_heads,\n",
    "            dropout=dropout,\n",
    "            batch_first=True\n",
    "        )\n",
    "        self.transformer_encoder = nn.TransformerEncoder(encoder_layer, num_layers=num_layers)\n",
    "        self.output_proj = nn.Linear(model_dim, 1)\n",
    "\n",
    "    def forward(self, h, f):\n",
    "        \"\"\"\n",
    "        h: [batch, seq_len, h_dim]\n",
    "        f: [batch, seq_len, 1]    (previous targets)\n",
    "        Predict f(t+1) for each t using [h(0:t), f(0:t)]\n",
    "        \"\"\"\n",
    "        x = torch.cat([h, f], dim=-1)  # [batch, seq_len, h_dim + 1]\n",
    "        x = self.input_proj(x)\n",
    "        x = self.positional_encoding(x)\n",
    "\n",
    "        # Causal mask to prevent using future info\n",
    "        seq_len = x.size(1)\n",
    "        causal_mask = torch.triu(torch.ones(seq_len, seq_len), diagonal=1).bool().to(x.device)\n",
    "\n",
    "        x = self.transformer_encoder(x, mask=causal_mask)\n",
    "        return self.output_proj(x)  # [batch, seq_len, 1]\n",
    "    \n",
    "\n",
    "def autoregressive_forecast(model, h_seq, f_start, horizon):\n",
    "    \"\"\"\n",
    "    h_seq: [1, total_steps, h_dim]\n",
    "    f_start: [1, 1] initial f value\n",
    "    \"\"\"\n",
    "    model.eval()\n",
    "    preds = []\n",
    "    f_seq = [f_start]\n",
    "\n",
    "    for t in range(horizon):\n",
    "        f_input = torch.cat(f_seq, dim=1)  # [1, t+1, 1]\n",
    "        h_input = h_seq[:, :t+1, :]        # [1, t+1, h_dim]\n",
    "\n",
    "        with torch.no_grad():\n",
    "            pred = model(h_input, f_input)  # [1, t+1, 1]\n",
    "            next_val = pred[:, -1:, :]      # only last prediction\n",
    "\n",
    "        f_seq.append(next_val)\n",
    "        preds.append(next_val)\n",
    "\n",
    "    return torch.cat(preds, dim=1)  # [1, horizon, 1]"
   ]
  },
  {
   "cell_type": "code",
   "execution_count": 3,
   "id": "f9d08b9b",
   "metadata": {},
   "outputs": [
    {
     "name": "stdout",
     "output_type": "stream",
     "text": [
      "AutoregressiveTimeSeriesTransformer(\n",
      "  (input_proj): Linear(in_features=2, out_features=256, bias=True)\n",
      "  (positional_encoding): PositionalEncoding()\n",
      "  (transformer_encoder): TransformerEncoder(\n",
      "    (layers): ModuleList(\n",
      "      (0-1): 2 x TransformerEncoderLayer(\n",
      "        (self_attn): MultiheadAttention(\n",
      "          (out_proj): NonDynamicallyQuantizableLinear(in_features=256, out_features=256, bias=True)\n",
      "        )\n",
      "        (linear1): Linear(in_features=256, out_features=2048, bias=True)\n",
      "        (dropout): Dropout(p=0.1, inplace=False)\n",
      "        (linear2): Linear(in_features=2048, out_features=256, bias=True)\n",
      "        (norm1): LayerNorm((256,), eps=1e-05, elementwise_affine=True)\n",
      "        (norm2): LayerNorm((256,), eps=1e-05, elementwise_affine=True)\n",
      "        (dropout1): Dropout(p=0.1, inplace=False)\n",
      "        (dropout2): Dropout(p=0.1, inplace=False)\n",
      "      )\n",
      "    )\n",
      "  )\n",
      "  (output_proj): Linear(in_features=256, out_features=1, bias=True)\n",
      ")\n"
     ]
    }
   ],
   "source": [
    "model=AutoregressiveTimeSeriesTransformer()\n",
    "print(model)"
   ]
  },
  {
   "cell_type": "code",
   "execution_count": 10,
   "id": "c89dea78",
   "metadata": {},
   "outputs": [],
   "source": [
    "import torch\n",
    "import torch.nn as nn\n",
    "\n",
    "class BiLSTMModel(nn.Module):\n",
    "    def __init__(self, input_size, hidden_size, output_size, num_layers=1, dropout=0.0):\n",
    "        super().__init__()\n",
    "        self.hidden_size = hidden_size\n",
    "        self.num_layers = num_layers\n",
    "        self.bilstm = nn.LSTM(\n",
    "            input_size=input_size,\n",
    "            hidden_size=hidden_size,\n",
    "            num_layers=num_layers,\n",
    "            batch_first=True,\n",
    "            bidirectional=True,   # <--- Enable bidirectional\n",
    "            dropout=dropout if num_layers > 1 else 0.0\n",
    "        )\n",
    "        # Because BiLSTM concatenates forward and backward outputs, output dim = hidden_size * 2\n",
    "        self.fc = nn.Linear(hidden_size * 2, output_size)\n",
    "\n",
    "    def forward(self, x):\n",
    "        # x: [batch, seq_len, input_size]\n",
    "        out, _ = self.bilstm(x)  # out: [batch, seq_len, hidden_size*2]\n",
    "        out = self.fc(out)       # map to output size at each timestep\n",
    "        return out"
   ]
  },
  {
   "cell_type": "code",
   "execution_count": null,
   "id": "d077fb1d",
   "metadata": {},
   "outputs": [],
   "source": []
  },
  {
   "cell_type": "markdown",
   "id": "a829b3a3",
   "metadata": {},
   "source": [
    "New training step"
   ]
  },
  {
   "cell_type": "code",
   "execution_count": null,
   "id": "2017ff63",
   "metadata": {},
   "outputs": [],
   "source": [
    "\n",
    "\n",
    "import torch\n",
    "import random\n",
    "import numpy as np\n",
    "from sklearn.metrics import mean_squared_error, mean_absolute_error\n",
    "\n",
    "def autoregressive_train_epoch(model, dataloader, optimizer, criterion, device, teacher_forcing_ratio=1.0, alpha=1e-3, bptt_steps=1):\n",
    "    model.train()\n",
    "    total_loss = 0\n",
    "    preds_all, targets_all = [], []\n",
    "\n",
    "    for h_batch, f_batch in dataloader:\n",
    "        h_batch = h_batch.to(device)\n",
    "        f_batch = f_batch.to(device)\n",
    "\n",
    "        B, T, _ = f_batch.shape\n",
    "        optimizer.zero_grad()\n",
    "\n",
    "        f_input = f_batch[:, :1, :]\n",
    "        prev_pred = None\n",
    "\n",
    "        preds = []\n",
    "\n",
    "        for t in range(1, T):\n",
    "            h_input = h_batch[:, :t, :]\n",
    "\n",
    "            use_teacher = random.random() < teacher_forcing_ratio\n",
    "            f_in = f_batch[:, :t, :] if use_teacher else f_input\n",
    "\n",
    "            out = model(h_input)\n",
    "            pred_t = out[:, -1:, :]\n",
    "            target_t = f_batch[:, t:t+1, :]\n",
    "\n",
    "            preds.append(pred_t.detach().cpu())\n",
    "\n",
    "            main_loss = criterion(pred_t, target_t)\n",
    "            smooth_loss = torch.mean((pred_t - prev_pred) ** 2) if prev_pred is not None else torch.tensor(0.0, device=device)\n",
    "            step_loss = main_loss + alpha * smooth_loss\n",
    "\n",
    "            step_loss.backward()\n",
    "\n",
    "            # Gradient clipping per step\n",
    "            torch.nn.utils.clip_grad_norm_(model.parameters(), max_norm=1.0)\n",
    "            optimizer.step()\n",
    "            optimizer.zero_grad()\n",
    "\n",
    "            prev_pred = pred_t.detach()  # Detach to prevent graph growth\n",
    "\n",
    "            if not use_teacher:\n",
    "                f_input = torch.cat([f_input, pred_t.detach()], dim=1)\n",
    "\n",
    "            total_loss += step_loss.item()\n",
    "\n",
    "        with torch.no_grad():\n",
    "            full_pred = torch.cat(preds, dim=1)\n",
    "            preds_all.append(full_pred.cpu())\n",
    "            targets_all.append(f_batch[:, 1:, :].cpu())\n",
    "\n",
    "        torch.cuda.empty_cache()\n",
    "\n",
    "    preds_all = torch.cat(preds_all).squeeze(-1).numpy()\n",
    "    targets_all = torch.cat(targets_all).squeeze(-1).numpy()\n",
    "\n",
    "    mse = mean_squared_error(targets_all, preds_all)\n",
    "    mae = mean_absolute_error(targets_all, preds_all)\n",
    "    rmse = np.sqrt(mse)\n",
    "\n",
    "    return total_loss / ((T - 1) * len(dataloader)), mae, rmse"
   ]
  },
  {
   "cell_type": "code",
   "execution_count": 16,
   "id": "25ba5932",
   "metadata": {},
   "outputs": [],
   "source": [
    "from sklearn.metrics import mean_absolute_error, mean_squared_error\n",
    "import numpy as np\n",
    "import torch\n",
    "\n",
    "def train_epoch(model, dataloader, optimizer, criterion, device):\n",
    "    model.train()\n",
    "    total_loss = 0\n",
    "    preds_all, targets_all = [], []\n",
    "\n",
    "    for inputs, targets in dataloader:\n",
    "        inputs = inputs.to(device)\n",
    "        targets = targets.to(device)\n",
    "\n",
    "        optimizer.zero_grad()\n",
    "        outputs = model(inputs)\n",
    "\n",
    "        loss = criterion(outputs, targets)\n",
    "        loss.backward()\n",
    "        torch.nn.utils.clip_grad_norm_(model.parameters(), max_norm=1.0)\n",
    "        optimizer.step()\n",
    "\n",
    "        total_loss += loss.item() * inputs.size(0)\n",
    "\n",
    "        preds_all.append(outputs.detach().cpu())\n",
    "        targets_all.append(targets.detach().cpu())\n",
    "\n",
    "        torch.cuda.empty_cache()\n",
    "\n",
    "    avg_loss = total_loss / len(dataloader.dataset)\n",
    "    preds_all = torch.cat(preds_all).numpy().squeeze(-1)\n",
    "    targets_all = torch.cat(targets_all).numpy().squeeze(-1)\n",
    "\n",
    "    mae = mean_absolute_error(targets_all, preds_all)\n",
    "    mse = mean_squared_error(targets_all, preds_all)\n",
    "    rmse = np.sqrt(mse)\n",
    "\n",
    "    return avg_loss, mae, rmse"
   ]
  },
  {
   "cell_type": "markdown",
   "id": "9a85d082",
   "metadata": {},
   "source": [
    "#### Dataloading"
   ]
  },
  {
   "cell_type": "code",
   "execution_count": 62,
   "id": "3d13c167",
   "metadata": {},
   "outputs": [],
   "source": [
    "import numpy as np\n",
    "import matplotlib.pyplot as plt"
   ]
  },
  {
   "cell_type": "code",
   "execution_count": 63,
   "id": "34c10466",
   "metadata": {},
   "outputs": [
    {
     "data": {
      "image/png": "[encoded data removed]",
      "text/plain": [
       "<Figure size 432x288 with 1 Axes>"
      ]
     },
     "metadata": {
      "needs_background": "light"
     },
     "output_type": "display_data"
    },
    {
     "name": "stdout",
     "output_type": "stream",
     "text": [
      "(10000, 300, 1) (10000, 300, 1)\n"
     ]
    }
   ],
   "source": [
    "data=np.load('data/dataset_h_eff/new_analysis_xxzx_model/dataset_2025-03-03_16-43.npz')\n",
    "\n",
    "h_eff=data['h_eff'][:10000,:300,]\n",
    "h=data['h'][:10000,:300]\n",
    "\n",
    "plt.plot(h_eff[100,1:,0])\n",
    "plt.show()\n",
    "print(h_eff.shape,h.shape)"
   ]
  },
  {
   "cell_type": "code",
   "execution_count": 64,
   "id": "3954bf45",
   "metadata": {},
   "outputs": [],
   "source": [
    "import torch\n",
    "from torch.utils.data import Dataset\n",
    "\n",
    "class TimeSeriesDataset(Dataset):\n",
    "    def __init__(self, h_array, f_array):\n",
    "        self.h = torch.from_numpy(h_array).float()  # shape: [B, T, 1]\n",
    "        self.f = torch.from_numpy(f_array).float()  # shape: [B, T, 1]\n",
    "\n",
    "    def __len__(self):\n",
    "        return len(self.h)\n",
    "\n",
    "    def __getitem__(self, idx):\n",
    "        return self.h[idx], self.f[idx]"
   ]
  },
  {
   "cell_type": "code",
   "execution_count": 60,
   "id": "e7ebdc5f",
   "metadata": {},
   "outputs": [],
   "source": [
    "from torch.utils.data import DataLoader, random_split\n",
    "import torch.optim as optim\n",
    "# Assume h_array and f_array are numpy arrays of shape [batch, time, 1]\n",
    "dataset = TimeSeriesDataset(h, h_eff)\n",
    "\n",
    "# Define split\n",
    "train_size = int(0.8 * len(dataset))\n",
    "val_size = len(dataset) - train_size\n",
    "\n",
    "train_dataset, val_dataset = random_split(dataset, [train_size, val_size])\n",
    "\n",
    "# Create loaders\n",
    "train_loader = DataLoader(train_dataset, batch_size=32, shuffle=True)\n",
    "val_loader = DataLoader(val_dataset, batch_size=32, shuffle=False)"
   ]
  },
  {
   "cell_type": "code",
   "execution_count": 61,
   "id": "82740af9",
   "metadata": {},
   "outputs": [
    {
     "name": "stdout",
     "output_type": "stream",
     "text": [
      "Epoch 1 | Loss: 0.0458 | MAE: 0.1143 | RMSE: 0.2140\n",
      "Epoch 2 | Loss: 0.0107 | MAE: 0.0613 | RMSE: 0.1033\n",
      "Epoch 3 | Loss: 0.0095 | MAE: 0.0567 | RMSE: 0.0976\n",
      "Epoch 4 | Loss: 0.0088 | MAE: 0.0548 | RMSE: 0.0940\n",
      "Epoch 5 | Loss: 0.0070 | MAE: 0.0501 | RMSE: 0.0837\n",
      "Epoch 6 | Loss: 0.0044 | MAE: 0.0405 | RMSE: 0.0665\n",
      "Epoch 7 | Loss: 0.0035 | MAE: 0.0357 | RMSE: 0.0593\n",
      "Epoch 8 | Loss: 0.0031 | MAE: 0.0330 | RMSE: 0.0553\n",
      "Epoch 9 | Loss: 0.0028 | MAE: 0.0310 | RMSE: 0.0525\n",
      "Epoch 10 | Loss: 0.0026 | MAE: 0.0298 | RMSE: 0.0506\n",
      "Epoch 11 | Loss: 0.0024 | MAE: 0.0282 | RMSE: 0.0485\n",
      "Epoch 12 | Loss: 0.0023 | MAE: 0.0280 | RMSE: 0.0475\n",
      "Epoch 13 | Loss: 0.0021 | MAE: 0.0267 | RMSE: 0.0453\n",
      "Epoch 14 | Loss: 0.0019 | MAE: 0.0257 | RMSE: 0.0441\n",
      "Epoch 15 | Loss: 0.0020 | MAE: 0.0262 | RMSE: 0.0446\n",
      "Epoch 16 | Loss: 0.0017 | MAE: 0.0239 | RMSE: 0.0411\n",
      "Epoch 17 | Loss: 0.0017 | MAE: 0.0243 | RMSE: 0.0416\n",
      "Epoch 18 | Loss: 0.0017 | MAE: 0.0243 | RMSE: 0.0414\n",
      "Epoch 19 | Loss: 0.0016 | MAE: 0.0238 | RMSE: 0.0402\n",
      "Epoch 20 | Loss: 0.0014 | MAE: 0.0215 | RMSE: 0.0371\n",
      "Epoch 21 | Loss: 0.0014 | MAE: 0.0217 | RMSE: 0.0372\n",
      "Epoch 22 | Loss: 0.0013 | MAE: 0.0213 | RMSE: 0.0363\n",
      "Epoch 23 | Loss: 0.0012 | MAE: 0.0206 | RMSE: 0.0350\n",
      "Epoch 24 | Loss: 0.0012 | MAE: 0.0211 | RMSE: 0.0351\n",
      "Epoch 25 | Loss: 0.0012 | MAE: 0.0206 | RMSE: 0.0344\n",
      "Epoch 26 | Loss: 0.0010 | MAE: 0.0192 | RMSE: 0.0324\n",
      "Epoch 27 | Loss: 0.0010 | MAE: 0.0189 | RMSE: 0.0321\n",
      "Epoch 28 | Loss: 0.0011 | MAE: 0.0200 | RMSE: 0.0334\n",
      "Epoch 29 | Loss: 0.0009 | MAE: 0.0179 | RMSE: 0.0305\n",
      "Epoch 30 | Loss: 0.0009 | MAE: 0.0182 | RMSE: 0.0305\n",
      "Epoch 31 | Loss: 0.0009 | MAE: 0.0178 | RMSE: 0.0300\n",
      "Epoch 32 | Loss: 0.0008 | MAE: 0.0163 | RMSE: 0.0275\n",
      "Epoch 33 | Loss: 0.0008 | MAE: 0.0169 | RMSE: 0.0284\n",
      "Epoch 34 | Loss: 0.0009 | MAE: 0.0176 | RMSE: 0.0297\n",
      "Epoch 35 | Loss: 0.0006 | MAE: 0.0143 | RMSE: 0.0247\n",
      "Epoch 36 | Loss: 0.0006 | MAE: 0.0149 | RMSE: 0.0249\n",
      "Epoch 37 | Loss: 0.0007 | MAE: 0.0157 | RMSE: 0.0261\n",
      "Epoch 38 | Loss: 0.0005 | MAE: 0.0137 | RMSE: 0.0234\n",
      "Epoch 39 | Loss: 0.0006 | MAE: 0.0150 | RMSE: 0.0246\n",
      "Epoch 40 | Loss: 0.0005 | MAE: 0.0128 | RMSE: 0.0217\n",
      "Epoch 41 | Loss: 0.0005 | MAE: 0.0137 | RMSE: 0.0231\n",
      "Epoch 42 | Loss: 0.0004 | MAE: 0.0124 | RMSE: 0.0210\n",
      "Epoch 43 | Loss: 0.0005 | MAE: 0.0137 | RMSE: 0.0227\n",
      "Epoch 44 | Loss: 0.0004 | MAE: 0.0127 | RMSE: 0.0211\n",
      "Epoch 45 | Loss: 0.0004 | MAE: 0.0120 | RMSE: 0.0202\n",
      "Epoch 46 | Loss: 0.0004 | MAE: 0.0117 | RMSE: 0.0195\n",
      "Epoch 47 | Loss: 0.0004 | MAE: 0.0121 | RMSE: 0.0200\n",
      "Epoch 48 | Loss: 0.0004 | MAE: 0.0117 | RMSE: 0.0193\n",
      "Epoch 49 | Loss: 0.0003 | MAE: 0.0107 | RMSE: 0.0179\n",
      "Epoch 50 | Loss: 0.0004 | MAE: 0.0115 | RMSE: 0.0190\n"
     ]
    }
   ],
   "source": [
    "device = torch.device(\"cuda\" if torch.cuda.is_available() else \"cpu\")\n",
    "\n",
    "model = BiLSTMModel(input_size=1, hidden_size=64, output_size=1, num_layers=3).to(device)\n",
    "optimizer = torch.optim.Adam(model.parameters(), lr=1e-3)\n",
    "criterion = torch.nn.MSELoss()\n",
    "\n",
    "\n",
    "\n",
    "epochs = 50\n",
    "for epoch in range(epochs):\n",
    "    tf_ratio = max(0.5, 1.0 - epoch / epochs)  # Linear decay\n",
    "    loss, mae, rmse = train_epoch(model, train_loader, optimizer, criterion, device)\n",
    "    print(f\"Epoch {epoch+1} | Loss: {loss:.4f} | MAE: {mae:.4f} | RMSE: {rmse:.4f}\")"
   ]
  },
  {
   "cell_type": "code",
   "execution_count": null,
   "id": "7006766c",
   "metadata": {},
   "outputs": [
    {
     "ename": "KeyboardInterrupt",
     "evalue": "",
     "output_type": "error",
     "traceback": [
      "\u001b[0;31m---------------------------------------------------------------------------\u001b[0m",
      "\u001b[0;31mKeyboardInterrupt\u001b[0m                         Traceback (most recent call last)",
      "Input \u001b[0;32mIn [9]\u001b[0m, in \u001b[0;36m<cell line: 7>\u001b[0;34m()\u001b[0m\n\u001b[1;32m      7\u001b[0m \u001b[38;5;28;01mfor\u001b[39;00m epoch \u001b[38;5;129;01min\u001b[39;00m \u001b[38;5;28mrange\u001b[39m(epochs):\n\u001b[1;32m      8\u001b[0m     tf_ratio \u001b[38;5;241m=\u001b[39m \u001b[38;5;28mmax\u001b[39m(\u001b[38;5;241m0.5\u001b[39m, \u001b[38;5;241m1.0\u001b[39m \u001b[38;5;241m-\u001b[39m epoch \u001b[38;5;241m/\u001b[39m epochs)  \u001b[38;5;66;03m# Linear decay\u001b[39;00m\n\u001b[0;32m----> 9\u001b[0m     loss, mae, rmse \u001b[38;5;241m=\u001b[39m \u001b[43mautoregressive_train_epoch\u001b[49m\u001b[43m(\u001b[49m\u001b[43mmodel\u001b[49m\u001b[43m,\u001b[49m\u001b[43m \u001b[49m\u001b[43mtrain_loader\u001b[49m\u001b[43m,\u001b[49m\u001b[43m \u001b[49m\u001b[43moptimizer\u001b[49m\u001b[43m,\u001b[49m\u001b[43m \u001b[49m\u001b[43mcriterion\u001b[49m\u001b[43m,\u001b[49m\u001b[43m \u001b[49m\u001b[43mdevice\u001b[49m\u001b[43m,\u001b[49m\u001b[43m \u001b[49m\u001b[43mteacher_forcing_ratio\u001b[49m\u001b[38;5;241;43m=\u001b[39;49m\u001b[43mtf_ratio\u001b[49m\u001b[43m)\u001b[49m\n\u001b[1;32m     10\u001b[0m     \u001b[38;5;28mprint\u001b[39m(\u001b[38;5;124mf\u001b[39m\u001b[38;5;124m\"\u001b[39m\u001b[38;5;124mEpoch \u001b[39m\u001b[38;5;132;01m{\u001b[39;00mepoch\u001b[38;5;241m+\u001b[39m\u001b[38;5;241m1\u001b[39m\u001b[38;5;132;01m}\u001b[39;00m\u001b[38;5;124m | Loss: \u001b[39m\u001b[38;5;132;01m{\u001b[39;00mloss\u001b[38;5;132;01m:\u001b[39;00m\u001b[38;5;124m.4f\u001b[39m\u001b[38;5;132;01m}\u001b[39;00m\u001b[38;5;124m | MAE: \u001b[39m\u001b[38;5;132;01m{\u001b[39;00mmae\u001b[38;5;132;01m:\u001b[39;00m\u001b[38;5;124m.4f\u001b[39m\u001b[38;5;132;01m}\u001b[39;00m\u001b[38;5;124m | RMSE: \u001b[39m\u001b[38;5;132;01m{\u001b[39;00mrmse\u001b[38;5;132;01m:\u001b[39;00m\u001b[38;5;124m.4f\u001b[39m\u001b[38;5;132;01m}\u001b[39;00m\u001b[38;5;124m\"\u001b[39m)\n",
      "Input \u001b[0;32mIn [4]\u001b[0m, in \u001b[0;36mautoregressive_train_epoch\u001b[0;34m(model, dataloader, optimizer, criterion, device, teacher_forcing_ratio, alpha, bptt_steps)\u001b[0m\n\u001b[1;32m     30\u001b[0m pred_t \u001b[38;5;241m=\u001b[39m out[:, \u001b[38;5;241m-\u001b[39m\u001b[38;5;241m1\u001b[39m:, :]\n\u001b[1;32m     31\u001b[0m target_t \u001b[38;5;241m=\u001b[39m f_batch[:, t:t\u001b[38;5;241m+\u001b[39m\u001b[38;5;241m1\u001b[39m, :]\n\u001b[0;32m---> 33\u001b[0m preds\u001b[38;5;241m.\u001b[39mappend(\u001b[43mpred_t\u001b[49m\u001b[38;5;241;43m.\u001b[39;49m\u001b[43mdetach\u001b[49m\u001b[43m(\u001b[49m\u001b[43m)\u001b[49m\u001b[38;5;241;43m.\u001b[39;49m\u001b[43mcpu\u001b[49m\u001b[43m(\u001b[49m\u001b[43m)\u001b[49m)\n\u001b[1;32m     35\u001b[0m main_loss \u001b[38;5;241m=\u001b[39m criterion(pred_t, target_t)\n\u001b[1;32m     36\u001b[0m smooth_loss \u001b[38;5;241m=\u001b[39m torch\u001b[38;5;241m.\u001b[39mmean((pred_t \u001b[38;5;241m-\u001b[39m prev_pred) \u001b[38;5;241m*\u001b[39m\u001b[38;5;241m*\u001b[39m \u001b[38;5;241m2\u001b[39m) \u001b[38;5;28;01mif\u001b[39;00m prev_pred \u001b[38;5;129;01mis\u001b[39;00m \u001b[38;5;129;01mnot\u001b[39;00m \u001b[38;5;28;01mNone\u001b[39;00m \u001b[38;5;28;01melse\u001b[39;00m torch\u001b[38;5;241m.\u001b[39mtensor(\u001b[38;5;241m0.0\u001b[39m, device\u001b[38;5;241m=\u001b[39mdevice)\n",
      "\u001b[0;31mKeyboardInterrupt\u001b[0m: "
     ]
    }
   ],
   "source": [
    "device = torch.device(\"cuda\" if torch.cuda.is_available() else \"cpu\")\n",
    "model = TimeSeriesTransformer(input_dim=1, model_dim=128, num_heads=2, num_layers=2).to(device)\n",
    "optimizer = optim.Adam(model.parameters(), lr=1e-3)\n",
    "criterion = nn.MSELoss()\n",
    "\n",
    "epochs = 50\n",
    "for epoch in range(epochs):\n",
    "    tf_ratio = max(0.5, 1.0 - epoch / epochs)  # Linear decay\n",
    "    loss, mae, rmse = autoregressive_train_epoch(model, train_loader, optimizer, criterion, device, teacher_forcing_ratio=tf_ratio)\n",
    "    print(f\"Epoch {epoch+1} | Loss: {loss:.4f} | MAE: {mae:.4f} | RMSE: {rmse:.4f}\")"
   ]
  },
  {
   "cell_type": "markdown",
   "id": "94109a2c",
   "metadata": {},
   "source": [
    "Prediction autoregressive"
   ]
  },
  {
   "cell_type": "code",
   "execution_count": 32,
   "id": "a2e7ffa8",
   "metadata": {},
   "outputs": [],
   "source": [
    "h_eff_prediction=autoregressive_forecast(model=model.to(device='cpu',dtype=torch.double),h_seq=torch.tensor(h[:10,:,:]),f_start=torch.tensor(h_eff[:10,1:2]),horizon=1000)"
   ]
  },
  {
   "cell_type": "code",
   "execution_count": 35,
   "id": "7c446273",
   "metadata": {},
   "outputs": [
    {
     "name": "stdout",
     "output_type": "stream",
     "text": [
      "torch.Size([10, 1000, 1])\n"
     ]
    },
    {
     "data": {
      "image/png": "[encoded data removed]",
      "text/plain": [
       "<Figure size 432x288 with 1 Axes>"
      ]
     },
     "metadata": {
      "needs_background": "light"
     },
     "output_type": "display_data"
    }
   ],
   "source": [
    "print(h_eff_prediction.shape)\n",
    "\n",
    "plt.plot(h_eff[3])\n",
    "plt.plot(h_eff_prediction[3])\n",
    "plt.show()"
   ]
  },
  {
   "cell_type": "code",
   "execution_count": 95,
   "id": "251253cc",
   "metadata": {},
   "outputs": [
    {
     "name": "stdout",
     "output_type": "stream",
     "text": [
      "Epoch 1/600, Train Loss: 0.606787, Val Loss: 0.132854\n",
      "Epoch 2/600, Train Loss: 0.121915, Val Loss: 0.028359\n",
      "Epoch 3/600, Train Loss: 0.023512, Val Loss: 0.020984\n",
      "Epoch 4/600, Train Loss: 0.014203, Val Loss: 0.022025\n",
      "Epoch 5/600, Train Loss: 0.011584, Val Loss: 0.018830\n",
      "Epoch 6/600, Train Loss: 0.010098, Val Loss: 0.018595\n",
      "Epoch 7/600, Train Loss: 0.009761, Val Loss: 0.021266\n",
      "Epoch 8/600, Train Loss: 0.009002, Val Loss: 0.016779\n",
      "Epoch 9/600, Train Loss: 0.008213, Val Loss: 0.016759\n",
      "Epoch 10/600, Train Loss: 0.008064, Val Loss: 0.017524\n",
      "Epoch 11/600, Train Loss: 0.007515, Val Loss: 0.017958\n",
      "Epoch 12/600, Train Loss: 0.007784, Val Loss: 0.017118\n",
      "Epoch 13/600, Train Loss: 0.007198, Val Loss: 0.016420\n"
     ]
    },
    {
     "ename": "KeyboardInterrupt",
     "evalue": "",
     "output_type": "error",
     "traceback": [
      "\u001b[0;31m---------------------------------------------------------------------------\u001b[0m",
      "\u001b[0;31mKeyboardInterrupt\u001b[0m                         Traceback (most recent call last)",
      "Input \u001b[0;32mIn [95]\u001b[0m, in \u001b[0;36m<cell line: 13>\u001b[0;34m()\u001b[0m\n\u001b[1;32m     25\u001b[0m     loss\u001b[38;5;241m.\u001b[39mbackward()\n\u001b[1;32m     26\u001b[0m     optimizer\u001b[38;5;241m.\u001b[39mstep()\n\u001b[0;32m---> 27\u001b[0m     train_loss \u001b[38;5;241m+\u001b[39m\u001b[38;5;241m=\u001b[39m \u001b[43mloss\u001b[49m\u001b[38;5;241;43m.\u001b[39;49m\u001b[43mitem\u001b[49m\u001b[43m(\u001b[49m\u001b[43m)\u001b[49m\n\u001b[1;32m     29\u001b[0m \u001b[38;5;66;03m# for h_batch, f_batch in train_loader:\u001b[39;00m\n\u001b[1;32m     30\u001b[0m \u001b[38;5;66;03m#     h_batch, f_batch = h_batch.to(device), f_batch.to(device)\u001b[39;00m\n\u001b[1;32m     34\u001b[0m model\u001b[38;5;241m.\u001b[39meval()\n",
      "\u001b[0;31mKeyboardInterrupt\u001b[0m: "
     ]
    }
   ],
   "source": [
    "import torch\n",
    "import torch.nn as nn\n",
    "import torch.optim as optim\n",
    "\n",
    "device = torch.device(\"cuda\" if torch.cuda.is_available() else \"cpu\")\n",
    "\n",
    "model = model.to(device)\n",
    "criterion = nn.MSELoss()\n",
    "optimizer = optim.Adam(model.parameters(), lr=1e-3)\n",
    "\n",
    "EPOCHS = 600\n",
    "\n",
    "for epoch in range(EPOCHS):\n",
    "    model.train()\n",
    "    train_loss = 0.0\n",
    "    \n",
    "    for h_batch,f_batch in train_loader:\n",
    "        h_batch, f_batch = h_batch.to(device), f_batch.to(device)\n",
    "        seq_len = 700\n",
    "        x = h_batch[:, :seq_len]\n",
    "        y = f_batch[:, :seq_len]\n",
    "        optimizer.zero_grad()\n",
    "        output = model(x)\n",
    "        loss = criterion(output, y)\n",
    "        loss.backward()\n",
    "        optimizer.step()\n",
    "        train_loss += loss.item()\n",
    "        \n",
    "    # for h_batch, f_batch in train_loader:\n",
    "    #     h_batch, f_batch = h_batch.to(device), f_batch.to(device)\n",
    "        \n",
    "\n",
    "\n",
    "    model.eval()\n",
    "    val_loss = 0.0\n",
    "    with torch.no_grad():\n",
    "        for h_batch, f_batch in val_loader:\n",
    "            h_batch, f_batch = h_batch.to(device), f_batch.to(device)\n",
    "            output = model(h_batch)\n",
    "            loss = criterion(output, f_batch)\n",
    "            val_loss += loss.item()\n",
    "\n",
    "    print(f\"Epoch {epoch+1}/{EPOCHS}, Train Loss: {train_loss/len(train_loader):.6f}, \"\n",
    "          f\"Val Loss: {val_loss/len(val_loader):.6f}\")"
   ]
  },
  {
   "cell_type": "markdown",
   "id": "8265550d",
   "metadata": {},
   "source": [
    "#### Test"
   ]
  },
  {
   "cell_type": "code",
   "execution_count": 65,
   "id": "fd9fe0e0",
   "metadata": {},
   "outputs": [],
   "source": [
    "data=np.load('data/dataset_h_eff/new_analysis_xxzx_model/dataset_2025-03-03_16-43.npz')\n",
    "\n",
    "h_eff=data['h_eff'][:100]\n",
    "h=data['h'][:100]\n",
    "\n",
    "h_tensor=torch.from_numpy(h)\n",
    "\n"
   ]
  },
  {
   "cell_type": "code",
   "execution_count": 66,
   "id": "a4953a82",
   "metadata": {},
   "outputs": [
    {
     "name": "stdout",
     "output_type": "stream",
     "text": [
      "torch.Size([100, 1001, 1]) tensor([[[-2.1346e-03],\n",
      "         [-3.5739e-03],\n",
      "         [-3.9642e-03],\n",
      "         ...,\n",
      "         [-6.8029e-01],\n",
      "         [-6.9332e-01],\n",
      "         [-7.0692e-01]],\n",
      "\n",
      "        [[-3.0884e-04],\n",
      "         [-1.9298e-03],\n",
      "         [-1.8683e-03],\n",
      "         ...,\n",
      "         [-1.1176e+00],\n",
      "         [-1.0912e+00],\n",
      "         [-1.0678e+00]],\n",
      "\n",
      "        [[-2.9203e-03],\n",
      "         [-4.3769e-03],\n",
      "         [-5.0776e-03],\n",
      "         ...,\n",
      "         [-9.3701e-01],\n",
      "         [-9.1625e-01],\n",
      "         [-9.0119e-01]],\n",
      "\n",
      "        ...,\n",
      "\n",
      "        [[-1.5085e-03],\n",
      "         [-2.9750e-03],\n",
      "         [-3.1615e-03],\n",
      "         ...,\n",
      "         [-6.7333e-01],\n",
      "         [-6.7049e-01],\n",
      "         [-6.7426e-01]],\n",
      "\n",
      "        [[-2.6350e-04],\n",
      "         [-1.8948e-03],\n",
      "         [-1.8342e-03],\n",
      "         ...,\n",
      "         [-9.8940e-01],\n",
      "         [-9.7704e-01],\n",
      "         [-9.6269e-01]],\n",
      "\n",
      "        [[-1.2708e-03],\n",
      "         [-2.7588e-03],\n",
      "         [-2.8821e-03],\n",
      "         ...,\n",
      "         [-1.3212e+00],\n",
      "         [-1.2784e+00],\n",
      "         [-1.2547e+00]]], grad_fn=<AddBackward0>)\n"
     ]
    }
   ],
   "source": [
    "model.eval()\n",
    "model=model.to(device='cpu').to(dtype=torch.float)\n",
    "h_eff_prediction=model(h_tensor.to(dtype=torch.float))\n",
    "\n",
    "print(h_eff_prediction.shape,h_eff_prediction)"
   ]
  },
  {
   "cell_type": "code",
   "execution_count": 92,
   "id": "903347a7",
   "metadata": {},
   "outputs": [
    {
     "data": {
      "image/png": "[encoded data removed]",
      "text/plain": [
       "<Figure size 432x288 with 1 Axes>"
      ]
     },
     "metadata": {
      "needs_background": "light"
     },
     "output_type": "display_data"
    }
   ],
   "source": [
    "import matplotlib.pyplot as plt\n",
    "idx=np.random.randint(0,100)\n",
    "plt.plot(h_eff_prediction[idx,1:,0].detach().numpy())\n",
    "plt.plot(h_eff[idx,1:,0])\n",
    "\n",
    "plt.show()"
   ]
  },
  {
   "cell_type": "markdown",
   "id": "9e4f0eeb",
   "metadata": {},
   "source": [
    "#### Autoregressive case"
   ]
  },
  {
   "cell_type": "code",
   "execution_count": 79,
   "id": "397cf515",
   "metadata": {},
   "outputs": [],
   "source": [
    "import torch\n",
    "import torch.nn as nn\n",
    "\n",
    "class AutoRegressiveTransformer(nn.Module):\n",
    "    def __init__(self, input_dim=2, model_dim=128, num_heads=4, num_layers=2, dropout=0.1):\n",
    "        super().__init__()\n",
    "        self.input_proj = nn.Linear(input_dim, model_dim)\n",
    "        self.positional_encoding = PositionalEncoding(model_dim)\n",
    "\n",
    "        encoder_layer = nn.TransformerEncoderLayer(d_model=model_dim, nhead=num_heads, dropout=dropout, batch_first=True)\n",
    "        self.transformer = nn.TransformerEncoder(encoder_layer, num_layers=num_layers)\n",
    "\n",
    "        self.predictor = nn.Linear(model_dim, 1)\n",
    "\n",
    "    def forward(self, h_f_seq):\n",
    "        # h_f_seq: [batch, time, 2]  (concatenated [h(t), f(t)] input)\n",
    "        x = self.input_proj(h_f_seq)              # [batch, time, model_dim]\n",
    "        x = self.positional_encoding(x)           # Add position info\n",
    "        x = self.transformer(x)                   # [batch, time, model_dim]\n",
    "        return self.predictor(x)                  # [batch, time, 1]"
   ]
  },
  {
   "cell_type": "code",
   "execution_count": 84,
   "id": "c2a10d24",
   "metadata": {},
   "outputs": [
    {
     "name": "stderr",
     "output_type": "stream",
     "text": [
      "  0%|          | 0/100 [00:00<?, ?it/s]"
     ]
    },
    {
     "name": "stdout",
     "output_type": "stream",
     "text": [
      "0.7113147377967834\n",
      "0.23613341152668\n",
      "0.36817610263824463\n",
      "0.43692463636398315\n",
      "0.28544995188713074\n",
      "0.159218892455101\n",
      "0.14247064292430878\n",
      "0.16818547248840332\n",
      "0.23459307849407196\n",
      "0.1761067509651184\n",
      "0.12480521947145462\n",
      "0.0908532366156578\n",
      "0.08052540570497513\n",
      "0.08641450107097626\n"
     ]
    },
    {
     "name": "stderr",
     "output_type": "stream",
     "text": [
      "  0%|          | 0/100 [00:27<?, ?it/s]\n"
     ]
    },
    {
     "ename": "KeyboardInterrupt",
     "evalue": "",
     "output_type": "error",
     "traceback": [
      "\u001b[0;31m---------------------------------------------------------------------------\u001b[0m",
      "\u001b[0;31mKeyboardInterrupt\u001b[0m                         Traceback (most recent call last)",
      "Input \u001b[0;32mIn [84]\u001b[0m, in \u001b[0;36m<cell line: 11>\u001b[0;34m()\u001b[0m\n\u001b[1;32m     19\u001b[0m loss \u001b[38;5;241m=\u001b[39m criterion(output[:, :\u001b[38;5;241m-\u001b[39m\u001b[38;5;241m1\u001b[39m], target[:, \u001b[38;5;241m1\u001b[39m:])  \u001b[38;5;66;03m# predict f(t+1)\u001b[39;00m\n\u001b[1;32m     21\u001b[0m optimizer\u001b[38;5;241m.\u001b[39mzero_grad()\n\u001b[0;32m---> 22\u001b[0m \u001b[43mloss\u001b[49m\u001b[38;5;241;43m.\u001b[39;49m\u001b[43mbackward\u001b[49m\u001b[43m(\u001b[49m\u001b[43m)\u001b[49m\n\u001b[1;32m     23\u001b[0m optimizer\u001b[38;5;241m.\u001b[39mstep()\n\u001b[1;32m     24\u001b[0m train_loss \u001b[38;5;241m+\u001b[39m\u001b[38;5;241m=\u001b[39m loss\u001b[38;5;241m.\u001b[39mitem()\n",
      "File \u001b[0;32m/opt/anaconda3/envs/tddft_env/lib/python3.9/site-packages/torch/_tensor.py:492\u001b[0m, in \u001b[0;36mTensor.backward\u001b[0;34m(self, gradient, retain_graph, create_graph, inputs)\u001b[0m\n\u001b[1;32m    482\u001b[0m \u001b[38;5;28;01mif\u001b[39;00m has_torch_function_unary(\u001b[38;5;28mself\u001b[39m):\n\u001b[1;32m    483\u001b[0m     \u001b[38;5;28;01mreturn\u001b[39;00m handle_torch_function(\n\u001b[1;32m    484\u001b[0m         Tensor\u001b[38;5;241m.\u001b[39mbackward,\n\u001b[1;32m    485\u001b[0m         (\u001b[38;5;28mself\u001b[39m,),\n\u001b[0;32m   (...)\u001b[0m\n\u001b[1;32m    490\u001b[0m         inputs\u001b[38;5;241m=\u001b[39minputs,\n\u001b[1;32m    491\u001b[0m     )\n\u001b[0;32m--> 492\u001b[0m \u001b[43mtorch\u001b[49m\u001b[38;5;241;43m.\u001b[39;49m\u001b[43mautograd\u001b[49m\u001b[38;5;241;43m.\u001b[39;49m\u001b[43mbackward\u001b[49m\u001b[43m(\u001b[49m\n\u001b[1;32m    493\u001b[0m \u001b[43m    \u001b[49m\u001b[38;5;28;43mself\u001b[39;49m\u001b[43m,\u001b[49m\u001b[43m \u001b[49m\u001b[43mgradient\u001b[49m\u001b[43m,\u001b[49m\u001b[43m \u001b[49m\u001b[43mretain_graph\u001b[49m\u001b[43m,\u001b[49m\u001b[43m \u001b[49m\u001b[43mcreate_graph\u001b[49m\u001b[43m,\u001b[49m\u001b[43m \u001b[49m\u001b[43minputs\u001b[49m\u001b[38;5;241;43m=\u001b[39;49m\u001b[43minputs\u001b[49m\n\u001b[1;32m    494\u001b[0m \u001b[43m\u001b[49m\u001b[43m)\u001b[49m\n",
      "File \u001b[0;32m/opt/anaconda3/envs/tddft_env/lib/python3.9/site-packages/torch/autograd/__init__.py:251\u001b[0m, in \u001b[0;36mbackward\u001b[0;34m(tensors, grad_tensors, retain_graph, create_graph, grad_variables, inputs)\u001b[0m\n\u001b[1;32m    246\u001b[0m     retain_graph \u001b[38;5;241m=\u001b[39m create_graph\n\u001b[1;32m    248\u001b[0m \u001b[38;5;66;03m# The reason we repeat the same comment below is that\u001b[39;00m\n\u001b[1;32m    249\u001b[0m \u001b[38;5;66;03m# some Python versions print out the first line of a multi-line function\u001b[39;00m\n\u001b[1;32m    250\u001b[0m \u001b[38;5;66;03m# calls in the traceback and some print out the last line\u001b[39;00m\n\u001b[0;32m--> 251\u001b[0m \u001b[43mVariable\u001b[49m\u001b[38;5;241;43m.\u001b[39;49m\u001b[43m_execution_engine\u001b[49m\u001b[38;5;241;43m.\u001b[39;49m\u001b[43mrun_backward\u001b[49m\u001b[43m(\u001b[49m\u001b[43m  \u001b[49m\u001b[38;5;66;43;03m# Calls into the C++ engine to run the backward pass\u001b[39;49;00m\n\u001b[1;32m    252\u001b[0m \u001b[43m    \u001b[49m\u001b[43mtensors\u001b[49m\u001b[43m,\u001b[49m\n\u001b[1;32m    253\u001b[0m \u001b[43m    \u001b[49m\u001b[43mgrad_tensors_\u001b[49m\u001b[43m,\u001b[49m\n\u001b[1;32m    254\u001b[0m \u001b[43m    \u001b[49m\u001b[43mretain_graph\u001b[49m\u001b[43m,\u001b[49m\n\u001b[1;32m    255\u001b[0m \u001b[43m    \u001b[49m\u001b[43mcreate_graph\u001b[49m\u001b[43m,\u001b[49m\n\u001b[1;32m    256\u001b[0m \u001b[43m    \u001b[49m\u001b[43minputs\u001b[49m\u001b[43m,\u001b[49m\n\u001b[1;32m    257\u001b[0m \u001b[43m    \u001b[49m\u001b[43mallow_unreachable\u001b[49m\u001b[38;5;241;43m=\u001b[39;49m\u001b[38;5;28;43;01mTrue\u001b[39;49;00m\u001b[43m,\u001b[49m\n\u001b[1;32m    258\u001b[0m \u001b[43m    \u001b[49m\u001b[43maccumulate_grad\u001b[49m\u001b[38;5;241;43m=\u001b[39;49m\u001b[38;5;28;43;01mTrue\u001b[39;49;00m\u001b[43m,\u001b[49m\n\u001b[1;32m    259\u001b[0m \u001b[43m\u001b[49m\u001b[43m)\u001b[49m\n",
      "\u001b[0;31mKeyboardInterrupt\u001b[0m: "
     ]
    }
   ],
   "source": [
    "from tqdm import trange\n",
    "\n",
    "model=AutoRegressiveTransformer()\n",
    "\n",
    "num_epochs=100\n",
    "\n",
    "optimizer = torch.optim.Adam(model.parameters(), lr=1e-4)\n",
    "criterion = nn.MSELoss()\n",
    "\n",
    "train_loss=0.\n",
    "for epoch in trange(num_epochs):\n",
    "    for h_seq, f_seq in train_loader:\n",
    "        h_seq=h_seq[:,:500]\n",
    "        f_seq=f_seq[:,:500]\n",
    "        input_seq = torch.cat([h_seq, f_seq], dim=-1)  # [batch, T, 2]\n",
    "        target = f_seq\n",
    "\n",
    "        output = model(input_seq)\n",
    "        loss = criterion(output[:, :-1], target[:, 1:])  # predict f(t+1)\n",
    "\n",
    "        optimizer.zero_grad()\n",
    "        loss.backward()\n",
    "        optimizer.step()\n",
    "        train_loss += loss.item()\n",
    "        print(loss.item())\n",
    "\n",
    "    print(f\"Epoch {epoch+1}/{EPOCHS}, Train Loss: {train_loss/len(train_loader):.6f}, \")\n",
    "    \n",
    "    \n",
    "    "
   ]
  },
  {
   "cell_type": "code",
   "execution_count": null,
   "id": "7a6e155d",
   "metadata": {},
   "outputs": [],
   "source": [
    "def autoregressive_forecast(model, h_seq, f_start, steps):\n",
    "    \"\"\"\n",
    "    h_seq: [1, T+steps, 1]  (known exogenous values)\n",
    "    f_start: [1, T, 1]      (initial known target values)\n",
    "    \"\"\"\n",
    "    preds = []\n",
    "    f_seq = f_start.clone()\n",
    "\n",
    "    for t in range(steps):\n",
    "        inp = torch.cat([h_seq[:, :f_seq.shape[1]], f_seq], dim=-1)\n",
    "        out = model(inp)\n",
    "        next_f = out[:, -1:]   # last time step\n",
    "        f_seq = torch.cat([f_seq, next_f], dim=1)\n",
    "        preds.append(next_f)\n",
    "\n",
    "    return torch.cat(preds, dim=1)  # [1, steps, 1]"
   ]
  },
  {
   "cell_type": "code",
   "execution_count": null,
   "id": "12b479c7",
   "metadata": {},
   "outputs": [],
   "source": []
  }
 ],
 "metadata": {
  "kernelspec": {
   "display_name": "tddft_env",
   "language": "python",
   "name": "python3"
  },
  "language_info": {
   "codemirror_mode": {
    "name": "ipython",
    "version": 3
   },
   "file_extension": ".py",
   "mimetype": "text/x-python",
   "name": "python",
   "nbconvert_exporter": "python",
   "pygments_lexer": "ipython3",
   "version": "3.9.0"
  }
 },
 "nbformat": 4,
 "nbformat_minor": 5
}
