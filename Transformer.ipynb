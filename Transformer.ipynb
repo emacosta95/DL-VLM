{
 "cells": [
  {
   "cell_type": "markdown",
   "id": "1a7aa280",
   "metadata": {},
   "source": [
    "## Trasnfer learning of a sequence to sequence transformer"
   ]
  },
  {
   "cell_type": "code",
   "execution_count": 1,
   "id": "f2ccfaea",
   "metadata": {},
   "outputs": [],
   "source": [
    "from transformers import TimeSeriesTransformerConfig, TimeSeriesTransformerModel\n",
    "import torch\n",
    "import torch.nn as nn\n",
    "\n",
    "class TimeSeriesTransformer(nn.Module):\n",
    "    def __init__(self, input_dim=1, model_dim=256, num_heads=4, num_layers=2, dropout=0.1):\n",
    "        super().__init__()\n",
    "        self.input_proj = nn.Linear(input_dim, model_dim)\n",
    "        self.positional_encoding = PositionalEncoding(model_dim)\n",
    "\n",
    "        encoder_layer = nn.TransformerEncoderLayer(d_model=model_dim, nhead=num_heads, dropout=dropout, batch_first=True)\n",
    "        self.transformer_encoder = nn.TransformerEncoder(encoder_layer, num_layers=num_layers)\n",
    "\n",
    "        self.output_proj = nn.Linear(model_dim, 1)\n",
    "\n",
    "    def forward(self, x):\n",
    "        # x shape: [batch, time, 1]\n",
    "        x = self.input_proj(x)                     # [batch, time, model_dim]\n",
    "        x = self.positional_encoding(x)           # Add position info\n",
    "        x = self.transformer_encoder(x)           # [batch, time, model_dim]\n",
    "        return self.output_proj(x)                # [batch, time, 1]\n",
    "\n",
    "\n",
    "class PositionalEncoding(nn.Module):\n",
    "    def __init__(self, d_model, max_len=5000):\n",
    "        super().__init__()\n",
    "        pe = torch.zeros(max_len, d_model)\n",
    "        position = torch.arange(0, max_len, dtype=torch.float32).unsqueeze(1)\n",
    "        div_term = torch.exp(torch.arange(0, d_model, 2).float() * (-torch.log(torch.tensor(10000.0)) / d_model))\n",
    "\n",
    "        pe[:, 0::2] = torch.sin(position * div_term)\n",
    "        pe[:, 1::2] = torch.cos(position * div_term)\n",
    "        pe = pe.unsqueeze(0)  # [1, max_len, d_model]\n",
    "        self.register_buffer('pe', pe)\n",
    "\n",
    "    def forward(self, x):\n",
    "        x = x + self.pe[:, :x.size(1)]\n",
    "        return x"
   ]
  },
  {
   "cell_type": "code",
   "execution_count": 2,
   "id": "45d45a43",
   "metadata": {},
   "outputs": [],
   "source": [
    "import torch\n",
    "import torch.nn as nn\n",
    "\n",
    "class PositionalEncoding(nn.Module):\n",
    "    def __init__(self, d_model, max_len=1000):\n",
    "        super().__init__()\n",
    "        pe = torch.zeros(max_len, d_model)\n",
    "        position = torch.arange(0, max_len).unsqueeze(1).float()\n",
    "        div_term = torch.exp(torch.arange(0, d_model, 2).float() * (-torch.log(torch.tensor(10000.0)) / d_model))\n",
    "        pe[:, 0::2] = torch.sin(position * div_term)\n",
    "        pe[:, 1::2] = torch.cos(position * div_term)\n",
    "        pe = pe.unsqueeze(0)  # [1, max_len, d_model]\n",
    "        self.register_buffer('pe', pe)\n",
    "\n",
    "    def forward(self, x):\n",
    "        return x + self.pe[:, :x.size(1)]\n",
    "\n",
    "\n",
    "class AutoregressiveTimeSeriesTransformer(nn.Module):\n",
    "    def __init__(self, input_dim=2, model_dim=256, num_heads=4, num_layers=2, dropout=0.1, max_len=1000):\n",
    "        super().__init__()\n",
    "        self.input_proj = nn.Linear(input_dim, model_dim)\n",
    "        self.positional_encoding = PositionalEncoding(model_dim, max_len)\n",
    "\n",
    "        encoder_layer = nn.TransformerEncoderLayer(\n",
    "            d_model=model_dim,\n",
    "            nhead=num_heads,\n",
    "            dropout=dropout,\n",
    "            batch_first=True\n",
    "        )\n",
    "        self.transformer_encoder = nn.TransformerEncoder(encoder_layer, num_layers=num_layers)\n",
    "        self.output_proj = nn.Linear(model_dim, 1)\n",
    "\n",
    "    def forward(self, h, f):\n",
    "        \"\"\"\n",
    "        h: [batch, seq_len, h_dim]\n",
    "        f: [batch, seq_len, 1]    (previous targets)\n",
    "        Predict f(t+1) for each t using [h(0:t), f(0:t)]\n",
    "        \"\"\"\n",
    "        x = torch.cat([h, f], dim=-1)  # [batch, seq_len, h_dim + 1]\n",
    "        x = self.input_proj(x)\n",
    "        x = self.positional_encoding(x)\n",
    "\n",
    "        # Causal mask to prevent using future info\n",
    "        seq_len = x.size(1)\n",
    "        causal_mask = torch.triu(torch.ones(seq_len, seq_len), diagonal=1).bool().to(x.device)\n",
    "\n",
    "        x = self.transformer_encoder(x, mask=causal_mask)\n",
    "        return self.output_proj(x)  # [batch, seq_len, 1]\n",
    "    \n",
    "\n",
    "def autoregressive_forecast(model, h_seq, f_start, horizon):\n",
    "    \"\"\"\n",
    "    h_seq: [1, total_steps, h_dim]\n",
    "    f_start: [1, 1] initial f value\n",
    "    \"\"\"\n",
    "    model.eval()\n",
    "    preds = []\n",
    "    f_seq = [f_start]\n",
    "\n",
    "    for t in range(horizon):\n",
    "        f_input = torch.cat(f_seq, dim=1)  # [1, t+1, 1]\n",
    "        h_input = h_seq[:, :t+1, :]        # [1, t+1, h_dim]\n",
    "\n",
    "        with torch.no_grad():\n",
    "            pred = model(h_input, f_input)  # [1, t+1, 1]\n",
    "            next_val = pred[:, -1:, :]      # only last prediction\n",
    "\n",
    "        f_seq.append(next_val)\n",
    "        preds.append(next_val)\n",
    "\n",
    "    return torch.cat(preds, dim=1)  # [1, horizon, 1]"
   ]
  },
  {
   "cell_type": "code",
   "execution_count": 3,
   "id": "f9d08b9b",
   "metadata": {},
   "outputs": [
    {
     "name": "stdout",
     "output_type": "stream",
     "text": [
      "AutoregressiveTimeSeriesTransformer(\n",
      "  (input_proj): Linear(in_features=2, out_features=256, bias=True)\n",
      "  (positional_encoding): PositionalEncoding()\n",
      "  (transformer_encoder): TransformerEncoder(\n",
      "    (layers): ModuleList(\n",
      "      (0-1): 2 x TransformerEncoderLayer(\n",
      "        (self_attn): MultiheadAttention(\n",
      "          (out_proj): NonDynamicallyQuantizableLinear(in_features=256, out_features=256, bias=True)\n",
      "        )\n",
      "        (linear1): Linear(in_features=256, out_features=2048, bias=True)\n",
      "        (dropout): Dropout(p=0.1, inplace=False)\n",
      "        (linear2): Linear(in_features=2048, out_features=256, bias=True)\n",
      "        (norm1): LayerNorm((256,), eps=1e-05, elementwise_affine=True)\n",
      "        (norm2): LayerNorm((256,), eps=1e-05, elementwise_affine=True)\n",
      "        (dropout1): Dropout(p=0.1, inplace=False)\n",
      "        (dropout2): Dropout(p=0.1, inplace=False)\n",
      "      )\n",
      "    )\n",
      "  )\n",
      "  (output_proj): Linear(in_features=256, out_features=1, bias=True)\n",
      ")\n"
     ]
    }
   ],
   "source": [
    "model=AutoregressiveTimeSeriesTransformer()\n",
    "print(model)"
   ]
  },
  {
   "cell_type": "code",
   "execution_count": 3,
   "id": "c89dea78",
   "metadata": {},
   "outputs": [],
   "source": [
    "import torch\n",
    "import torch.nn as nn\n",
    "\n",
    "class BiLSTMModel(nn.Module):\n",
    "    def __init__(self, input_size, hidden_size, output_size, num_layers=1, dropout=0.0):\n",
    "        super().__init__()\n",
    "        self.hidden_size = hidden_size\n",
    "        self.num_layers = num_layers\n",
    "        self.bilstm = nn.LSTM(\n",
    "            input_size=input_size,\n",
    "            hidden_size=hidden_size,\n",
    "            num_layers=num_layers,\n",
    "            batch_first=True,\n",
    "            bidirectional=True,   # <--- Enable bidirectional\n",
    "            dropout=dropout if num_layers > 1 else 0.0\n",
    "        )\n",
    "        # Because BiLSTM concatenates forward and backward outputs, output dim = hidden_size * 2\n",
    "        self.fc = nn.Linear(hidden_size * 2, output_size)\n",
    "\n",
    "    def forward(self, x):\n",
    "        # x: [batch, seq_len, input_size]\n",
    "        out, _ = self.bilstm(x)  # out: [batch, seq_len, hidden_size*2]\n",
    "        out = self.fc(out)       # map to output size at each timestep\n",
    "        return out"
   ]
  },
  {
   "cell_type": "code",
   "execution_count": null,
   "id": "d077fb1d",
   "metadata": {},
   "outputs": [],
   "source": []
  },
  {
   "cell_type": "markdown",
   "id": "a829b3a3",
   "metadata": {},
   "source": [
    "New training step"
   ]
  },
  {
   "cell_type": "code",
   "execution_count": null,
   "id": "2017ff63",
   "metadata": {},
   "outputs": [],
   "source": [
    "\n",
    "\n",
    "import torch\n",
    "import random\n",
    "import numpy as np\n",
    "from sklearn.metrics import mean_squared_error, mean_absolute_error\n",
    "\n",
    "def autoregressive_train_epoch(model, dataloader, optimizer, criterion, device, teacher_forcing_ratio=1.0, alpha=1e-3, bptt_steps=1):\n",
    "    model.train()\n",
    "    total_loss = 0\n",
    "    preds_all, targets_all = [], []\n",
    "\n",
    "    for h_batch, f_batch in dataloader:\n",
    "        h_batch = h_batch.to(device)\n",
    "        f_batch = f_batch.to(device)\n",
    "\n",
    "        B, T, _ = f_batch.shape\n",
    "        optimizer.zero_grad()\n",
    "\n",
    "        f_input = f_batch[:, :1, :]\n",
    "        prev_pred = None\n",
    "\n",
    "        preds = []\n",
    "\n",
    "        for t in range(1, T):\n",
    "            h_input = h_batch[:, :t, :]\n",
    "\n",
    "            use_teacher = random.random() < teacher_forcing_ratio\n",
    "            f_in = f_batch[:, :t, :] if use_teacher else f_input\n",
    "\n",
    "            out = model(h_input)\n",
    "            pred_t = out[:, -1:, :]\n",
    "            target_t = f_batch[:, t:t+1, :]\n",
    "\n",
    "            preds.append(pred_t.detach().cpu())\n",
    "\n",
    "            main_loss = criterion(pred_t, target_t)\n",
    "            smooth_loss = torch.mean((pred_t - prev_pred) ** 2) if prev_pred is not None else torch.tensor(0.0, device=device)\n",
    "            step_loss = main_loss + alpha * smooth_loss\n",
    "\n",
    "            step_loss.backward()\n",
    "\n",
    "            # Gradient clipping per step\n",
    "            torch.nn.utils.clip_grad_norm_(model.parameters(), max_norm=1.0)\n",
    "            optimizer.step()\n",
    "            optimizer.zero_grad()\n",
    "\n",
    "            prev_pred = pred_t.detach()  # Detach to prevent graph growth\n",
    "\n",
    "            if not use_teacher:\n",
    "                f_input = torch.cat([f_input, pred_t.detach()], dim=1)\n",
    "\n",
    "            total_loss += step_loss.item()\n",
    "\n",
    "        with torch.no_grad():\n",
    "            full_pred = torch.cat(preds, dim=1)\n",
    "            preds_all.append(full_pred.cpu())\n",
    "            targets_all.append(f_batch[:, 1:, :].cpu())\n",
    "\n",
    "        torch.cuda.empty_cache()\n",
    "\n",
    "    preds_all = torch.cat(preds_all).squeeze(-1).numpy()\n",
    "    targets_all = torch.cat(targets_all).squeeze(-1).numpy()\n",
    "\n",
    "    mse = mean_squared_error(targets_all, preds_all)\n",
    "    mae = mean_absolute_error(targets_all, preds_all)\n",
    "    rmse = np.sqrt(mse)\n",
    "\n",
    "    return total_loss / ((T - 1) * len(dataloader)), mae, rmse"
   ]
  },
  {
   "cell_type": "code",
   "execution_count": 4,
   "id": "25ba5932",
   "metadata": {},
   "outputs": [],
   "source": [
    "from sklearn.metrics import mean_absolute_error, mean_squared_error\n",
    "import numpy as np\n",
    "import torch\n",
    "\n",
    "def train_epoch(model, dataloader, optimizer, criterion, device):\n",
    "    model.train()\n",
    "    total_loss = 0\n",
    "    preds_all, targets_all = [], []\n",
    "\n",
    "    for inputs, targets in dataloader:\n",
    "        inputs = inputs.to(device)\n",
    "        targets = targets.to(device)\n",
    "\n",
    "        optimizer.zero_grad()\n",
    "        outputs = model(inputs)\n",
    "\n",
    "        loss = criterion(outputs, targets)\n",
    "        loss.backward()\n",
    "        torch.nn.utils.clip_grad_norm_(model.parameters(), max_norm=1.0)\n",
    "        optimizer.step()\n",
    "\n",
    "        total_loss += loss.item() * inputs.size(0)\n",
    "\n",
    "        preds_all.append(outputs.detach().cpu())\n",
    "        targets_all.append(targets.detach().cpu())\n",
    "\n",
    "        torch.cuda.empty_cache()\n",
    "\n",
    "    avg_loss = total_loss / len(dataloader.dataset)\n",
    "    preds_all = torch.cat(preds_all).numpy().squeeze(-1)\n",
    "    targets_all = torch.cat(targets_all).numpy().squeeze(-1)\n",
    "\n",
    "    mae = mean_absolute_error(targets_all, preds_all)\n",
    "    mse = mean_squared_error(targets_all, preds_all)\n",
    "    rmse = np.sqrt(mse)\n",
    "\n",
    "    return avg_loss, mae, rmse"
   ]
  },
  {
   "cell_type": "markdown",
   "id": "9a85d082",
   "metadata": {},
   "source": [
    "#### Dataloading"
   ]
  },
  {
   "cell_type": "code",
   "execution_count": 5,
   "id": "3d13c167",
   "metadata": {},
   "outputs": [],
   "source": [
    "import numpy as np\n",
    "import matplotlib.pyplot as plt"
   ]
  },
  {
   "cell_type": "code",
   "execution_count": 111,
   "id": "34c10466",
   "metadata": {},
   "outputs": [
    {
     "name": "stdout",
     "output_type": "stream",
     "text": [
      "xx-z-x model with omega=1.0, coupling=-1.0 external field with rate min=0.0 and rate max=4.0 amplitude max=2.0 amplitude min=0.0 tf=20 steps=2000 l variable ndata=5000 initial state option=True pbc=True\n"
     ]
    },
    {
     "data": {
      "image/png": "[encoded data removed]",
      "text/plain": [
       "<Figure size 432x288 with 1 Axes>"
      ]
     },
     "metadata": {
      "needs_background": "light"
     },
     "output_type": "display_data"
    },
    {
     "name": "stdout",
     "output_type": "stream",
     "text": [
      "(5000, 2001, 1) (5000, 2001, 1)\n"
     ]
    }
   ],
   "source": [
    "data=np.load('data/dataset_h_eff/new_analysis_xxzx_model/dataset_2025-06-29_18-55.npz')\n",
    "print(data['info'])\n",
    "h_eff=data['h_eff'][:10000,:,]\n",
    "h=data['h'][:10000,:]\n",
    "\n",
    "plt.plot(h_eff[100,1:,0])\n",
    "plt.show()\n",
    "print(h_eff.shape,h.shape)"
   ]
  },
  {
   "cell_type": "code",
   "execution_count": 112,
   "id": "3954bf45",
   "metadata": {},
   "outputs": [],
   "source": [
    "import torch\n",
    "from torch.utils.data import Dataset\n",
    "\n",
    "class TimeSeriesDataset(Dataset):\n",
    "    def __init__(self, h_array, f_array):\n",
    "        self.h = torch.from_numpy(h_array[:,:]).float()  # shape: [B, T, 1]\n",
    "        self.f = torch.from_numpy(f_array[:,:]).float()  # shape: [B, T, 1]\n",
    "\n",
    "    def __len__(self):\n",
    "        return len(self.h)\n",
    "\n",
    "    def __getitem__(self, idx):\n",
    "        return self.h[idx], self.f[idx]"
   ]
  },
  {
   "cell_type": "code",
   "execution_count": 113,
   "id": "e7ebdc5f",
   "metadata": {},
   "outputs": [],
   "source": [
    "from torch.utils.data import DataLoader, random_split\n",
    "import torch.optim as optim\n",
    "# Assume h_array and f_array are numpy arrays of shape [batch, time, 1]\n",
    "dataset = TimeSeriesDataset(h, h_eff)\n",
    "\n",
    "# Define split\n",
    "train_size = int(0.8 * len(dataset))\n",
    "val_size = len(dataset) - train_size\n",
    "\n",
    "train_dataset, val_dataset = random_split(dataset, [train_size, val_size])\n",
    "\n",
    "# Create loaders\n",
    "train_loader = DataLoader(train_dataset, batch_size=32, shuffle=True)\n",
    "val_loader = DataLoader(val_dataset, batch_size=32, shuffle=False)"
   ]
  },
  {
   "cell_type": "code",
   "execution_count": 114,
   "id": "82740af9",
   "metadata": {},
   "outputs": [],
   "source": [
    "device = torch.device(\"cuda\" if torch.cuda.is_available() else \"cpu\")\n",
    "\n",
    "model = BiLSTMModel(input_size=1, hidden_size=64, output_size=1, num_layers=3).to(device)\n",
    "optimizer = torch.optim.Adam(model.parameters(), lr=1e-3)\n",
    "criterion = torch.nn.MSELoss()\n",
    "\n",
    "\n",
    "\n",
    "# epochs = 50\n",
    "# for epoch in range(epochs):\n",
    "#     tf_ratio = max(0.5, 1.0 - epoch / epochs)  # Linear decay\n",
    "#     loss, mae, rmse = train_epoch(model, train_loader, optimizer, criterion, device)\n",
    "#     print(f\"Epoch {epoch+1} | Loss: {loss:.4f} | MAE: {mae:.4f} | RMSE: {rmse:.4f}\")"
   ]
  },
  {
   "cell_type": "code",
   "execution_count": 10,
   "id": "7006766c",
   "metadata": {},
   "outputs": [
    {
     "ename": "NameError",
     "evalue": "name 'autoregressive_train_epoch' is not defined",
     "output_type": "error",
     "traceback": [
      "\u001b[0;31m---------------------------------------------------------------------------\u001b[0m",
      "\u001b[0;31mNameError\u001b[0m                                 Traceback (most recent call last)",
      "Input \u001b[0;32mIn [10]\u001b[0m, in \u001b[0;36m<cell line: 7>\u001b[0;34m()\u001b[0m\n\u001b[1;32m      7\u001b[0m \u001b[38;5;28;01mfor\u001b[39;00m epoch \u001b[38;5;129;01min\u001b[39;00m \u001b[38;5;28mrange\u001b[39m(epochs):\n\u001b[1;32m      8\u001b[0m     tf_ratio \u001b[38;5;241m=\u001b[39m \u001b[38;5;28mmax\u001b[39m(\u001b[38;5;241m0.5\u001b[39m, \u001b[38;5;241m1.0\u001b[39m \u001b[38;5;241m-\u001b[39m epoch \u001b[38;5;241m/\u001b[39m epochs)  \u001b[38;5;66;03m# Linear decay\u001b[39;00m\n\u001b[0;32m----> 9\u001b[0m     loss, mae, rmse \u001b[38;5;241m=\u001b[39m \u001b[43mautoregressive_train_epoch\u001b[49m(model, train_loader, optimizer, criterion, device, teacher_forcing_ratio\u001b[38;5;241m=\u001b[39mtf_ratio)\n\u001b[1;32m     10\u001b[0m     \u001b[38;5;28mprint\u001b[39m(\u001b[38;5;124mf\u001b[39m\u001b[38;5;124m\"\u001b[39m\u001b[38;5;124mEpoch \u001b[39m\u001b[38;5;132;01m{\u001b[39;00mepoch\u001b[38;5;241m+\u001b[39m\u001b[38;5;241m1\u001b[39m\u001b[38;5;132;01m}\u001b[39;00m\u001b[38;5;124m | Loss: \u001b[39m\u001b[38;5;132;01m{\u001b[39;00mloss\u001b[38;5;132;01m:\u001b[39;00m\u001b[38;5;124m.4f\u001b[39m\u001b[38;5;132;01m}\u001b[39;00m\u001b[38;5;124m | MAE: \u001b[39m\u001b[38;5;132;01m{\u001b[39;00mmae\u001b[38;5;132;01m:\u001b[39;00m\u001b[38;5;124m.4f\u001b[39m\u001b[38;5;132;01m}\u001b[39;00m\u001b[38;5;124m | RMSE: \u001b[39m\u001b[38;5;132;01m{\u001b[39;00mrmse\u001b[38;5;132;01m:\u001b[39;00m\u001b[38;5;124m.4f\u001b[39m\u001b[38;5;132;01m}\u001b[39;00m\u001b[38;5;124m\"\u001b[39m)\n",
      "\u001b[0;31mNameError\u001b[0m: name 'autoregressive_train_epoch' is not defined"
     ]
    }
   ],
   "source": [
    "device = torch.device(\"cuda\" if torch.cuda.is_available() else \"cpu\")\n",
    "model = TimeSeriesTransformer(input_dim=1, model_dim=128, num_heads=2, num_layers=2).to(device)\n",
    "optimizer = optim.Adam(model.parameters(), lr=1e-3)\n",
    "criterion = nn.MSELoss()\n",
    "\n",
    "epochs = 50\n",
    "for epoch in range(epochs):\n",
    "    tf_ratio = max(0.5, 1.0 - epoch / epochs)  # Linear decay\n",
    "    loss, mae, rmse = autoregressive_train_epoch(model, train_loader, optimizer, criterion, device, teacher_forcing_ratio=tf_ratio)\n",
    "    print(f\"Epoch {epoch+1} | Loss: {loss:.4f} | MAE: {mae:.4f} | RMSE: {rmse:.4f}\")"
   ]
  },
  {
   "cell_type": "markdown",
   "id": "94109a2c",
   "metadata": {},
   "source": [
    "Prediction autoregressive"
   ]
  },
  {
   "cell_type": "code",
   "execution_count": 32,
   "id": "a2e7ffa8",
   "metadata": {},
   "outputs": [],
   "source": [
    "h_eff_prediction=autoregressive_forecast(model=model.to(device='cpu',dtype=torch.double),h_seq=torch.tensor(h[:10,:,:]),f_start=torch.tensor(h_eff[:10,1:2]),horizon=1000)"
   ]
  },
  {
   "cell_type": "code",
   "execution_count": 35,
   "id": "7c446273",
   "metadata": {},
   "outputs": [
    {
     "name": "stdout",
     "output_type": "stream",
     "text": [
      "torch.Size([10, 1000, 1])\n"
     ]
    },
    {
     "data": {
      "image/png": "[encoded data removed]",
      "text/plain": [
       "<Figure size 432x288 with 1 Axes>"
      ]
     },
     "metadata": {
      "needs_background": "light"
     },
     "output_type": "display_data"
    }
   ],
   "source": [
    "print(h_eff_prediction.shape)\n",
    "\n",
    "plt.plot(h_eff[3])\n",
    "plt.plot(h_eff_prediction[3])\n",
    "plt.show()"
   ]
  },
  {
   "cell_type": "code",
   "execution_count": 139,
   "id": "251253cc",
   "metadata": {},
   "outputs": [
    {
     "name": "stdout",
     "output_type": "stream",
     "text": [
      "Epoch 1/600, Train Loss: 0.006560, Val Loss: 0.004774\n",
      "Epoch 2/600, Train Loss: 0.002596, Val Loss: 0.004144\n",
      "Epoch 3/600, Train Loss: 0.002282, Val Loss: 0.003798\n",
      "Epoch 4/600, Train Loss: 0.002216, Val Loss: 0.003360\n",
      "Epoch 5/600, Train Loss: 0.002001, Val Loss: 0.002926\n",
      "Epoch 6/600, Train Loss: 0.002188, Val Loss: 0.004281\n",
      "Epoch 7/600, Train Loss: 0.002223, Val Loss: 0.003138\n",
      "Epoch 8/600, Train Loss: 0.001898, Val Loss: 0.002842\n",
      "Epoch 9/600, Train Loss: 0.001750, Val Loss: 0.002956\n",
      "Epoch 10/600, Train Loss: 0.001815, Val Loss: 0.002667\n",
      "Epoch 11/600, Train Loss: 0.001738, Val Loss: 0.002957\n",
      "Epoch 12/600, Train Loss: 0.001831, Val Loss: 0.002750\n",
      "Epoch 13/600, Train Loss: 0.001932, Val Loss: 0.003465\n",
      "Epoch 14/600, Train Loss: 0.001953, Val Loss: 0.002775\n",
      "Epoch 15/600, Train Loss: 0.001549, Val Loss: 0.002415\n",
      "Epoch 16/600, Train Loss: 0.001722, Val Loss: 0.002628\n",
      "Epoch 17/600, Train Loss: 0.001568, Val Loss: 0.002454\n",
      "Epoch 18/600, Train Loss: 0.001485, Val Loss: 0.002969\n",
      "Epoch 19/600, Train Loss: 0.001731, Val Loss: 0.002479\n",
      "Epoch 20/600, Train Loss: 0.001588, Val Loss: 0.002802\n",
      "Epoch 21/600, Train Loss: 0.001393, Val Loss: 0.002560\n",
      "Epoch 22/600, Train Loss: 0.001765, Val Loss: 0.002531\n",
      "Epoch 23/600, Train Loss: 0.001294, Val Loss: 0.002414\n",
      "Epoch 24/600, Train Loss: 0.001274, Val Loss: 0.002544\n",
      "Epoch 25/600, Train Loss: 0.001284, Val Loss: 0.003777\n",
      "Epoch 26/600, Train Loss: 0.001657, Val Loss: 0.002725\n",
      "Epoch 27/600, Train Loss: 0.001355, Val Loss: 0.002427\n",
      "Epoch 28/600, Train Loss: 0.001230, Val Loss: 0.002393\n",
      "Epoch 29/600, Train Loss: 0.001779, Val Loss: 0.004001\n",
      "Epoch 30/600, Train Loss: 0.001470, Val Loss: 0.003331\n",
      "Epoch 31/600, Train Loss: 0.001247, Val Loss: 0.002386\n",
      "Epoch 32/600, Train Loss: 0.001158, Val Loss: 0.002675\n",
      "Epoch 33/600, Train Loss: 0.001261, Val Loss: 0.002573\n",
      "Epoch 34/600, Train Loss: 0.001366, Val Loss: 0.002242\n",
      "Epoch 35/600, Train Loss: 0.001146, Val Loss: 0.002616\n",
      "Epoch 36/600, Train Loss: 0.001280, Val Loss: 0.002552\n",
      "Epoch 37/600, Train Loss: 0.001384, Val Loss: 0.002994\n",
      "Epoch 38/600, Train Loss: 0.001162, Val Loss: 0.002155\n",
      "Epoch 39/600, Train Loss: 0.001224, Val Loss: 0.002340\n",
      "Epoch 40/600, Train Loss: 0.001195, Val Loss: 0.002925\n",
      "Epoch 41/600, Train Loss: 0.001147, Val Loss: 0.002330\n",
      "Epoch 42/600, Train Loss: 0.001399, Val Loss: 0.004004\n",
      "Epoch 43/600, Train Loss: 0.001349, Val Loss: 0.002125\n",
      "Epoch 44/600, Train Loss: 0.001149, Val Loss: 0.002432\n",
      "Epoch 45/600, Train Loss: 0.001083, Val Loss: 0.002631\n",
      "Epoch 46/600, Train Loss: 0.001475, Val Loss: 0.003841\n",
      "Epoch 47/600, Train Loss: 0.001177, Val Loss: 0.002918\n",
      "Epoch 48/600, Train Loss: 0.001110, Val Loss: 0.002476\n",
      "Epoch 49/600, Train Loss: 0.001086, Val Loss: 0.002371\n",
      "Epoch 50/600, Train Loss: 0.001122, Val Loss: 0.002245\n",
      "Epoch 51/600, Train Loss: 0.001083, Val Loss: 0.002225\n",
      "Epoch 52/600, Train Loss: 0.001094, Val Loss: 0.002345\n",
      "Epoch 53/600, Train Loss: 0.001064, Val Loss: 0.002068\n",
      "Epoch 54/600, Train Loss: 0.001176, Val Loss: 0.002471\n",
      "Epoch 55/600, Train Loss: 0.001190, Val Loss: 0.002894\n",
      "Epoch 56/600, Train Loss: 0.001469, Val Loss: 0.003727\n",
      "Epoch 57/600, Train Loss: 0.001134, Val Loss: 0.002020\n",
      "Epoch 58/600, Train Loss: 0.000974, Val Loss: 0.002408\n",
      "Epoch 59/600, Train Loss: 0.001149, Val Loss: 0.002238\n",
      "Epoch 60/600, Train Loss: 0.001287, Val Loss: 0.002537\n",
      "Epoch 61/600, Train Loss: 0.001126, Val Loss: 0.002072\n",
      "Epoch 62/600, Train Loss: 0.001091, Val Loss: 0.002501\n",
      "Epoch 63/600, Train Loss: 0.001136, Val Loss: 0.002222\n",
      "Epoch 64/600, Train Loss: 0.001018, Val Loss: 0.002044\n",
      "Epoch 65/600, Train Loss: 0.000942, Val Loss: 0.002366\n",
      "Epoch 66/600, Train Loss: 0.001006, Val Loss: 0.002334\n",
      "Epoch 67/600, Train Loss: 0.001046, Val Loss: 0.002372\n",
      "Epoch 68/600, Train Loss: 0.001190, Val Loss: 0.002989\n",
      "Epoch 69/600, Train Loss: 0.001390, Val Loss: 0.002336\n",
      "Epoch 70/600, Train Loss: 0.000972, Val Loss: 0.002087\n",
      "Epoch 71/600, Train Loss: 0.000879, Val Loss: 0.002169\n",
      "Epoch 72/600, Train Loss: 0.000902, Val Loss: 0.001879\n",
      "Epoch 73/600, Train Loss: 0.000939, Val Loss: 0.002114\n",
      "Epoch 74/600, Train Loss: 0.001062, Val Loss: 0.001978\n",
      "Epoch 75/600, Train Loss: 0.000923, Val Loss: 0.002201\n",
      "Epoch 76/600, Train Loss: 0.000993, Val Loss: 0.001989\n",
      "Epoch 77/600, Train Loss: 0.000939, Val Loss: 0.002798\n",
      "Epoch 78/600, Train Loss: 0.000896, Val Loss: 0.002527\n",
      "Epoch 79/600, Train Loss: 0.001163, Val Loss: 0.002137\n",
      "Epoch 80/600, Train Loss: 0.000895, Val Loss: 0.002191\n",
      "Epoch 81/600, Train Loss: 0.000849, Val Loss: 0.002250\n",
      "Epoch 82/600, Train Loss: 0.001003, Val Loss: 0.002894\n",
      "Epoch 83/600, Train Loss: 0.000998, Val Loss: 0.002113\n",
      "Epoch 84/600, Train Loss: 0.000880, Val Loss: 0.002065\n",
      "Epoch 85/600, Train Loss: 0.001053, Val Loss: 0.002068\n",
      "Epoch 86/600, Train Loss: 0.000931, Val Loss: 0.002139\n",
      "Epoch 87/600, Train Loss: 0.000883, Val Loss: 0.002085\n",
      "Epoch 88/600, Train Loss: 0.000847, Val Loss: 0.002476\n",
      "Epoch 89/600, Train Loss: 0.000866, Val Loss: 0.002021\n",
      "Epoch 90/600, Train Loss: 0.000959, Val Loss: 0.002312\n",
      "Epoch 91/600, Train Loss: 0.001023, Val Loss: 0.002212\n",
      "Epoch 92/600, Train Loss: 0.000859, Val Loss: 0.002358\n",
      "Epoch 93/600, Train Loss: 0.000876, Val Loss: 0.002567\n",
      "Epoch 94/600, Train Loss: 0.000830, Val Loss: 0.002235\n",
      "Epoch 95/600, Train Loss: 0.000914, Val Loss: 0.002234\n",
      "Epoch 96/600, Train Loss: 0.000979, Val Loss: 0.002397\n"
     ]
    },
    {
     "ename": "KeyboardInterrupt",
     "evalue": "",
     "output_type": "error",
     "traceback": [
      "\u001b[0;31m---------------------------------------------------------------------------\u001b[0m",
      "\u001b[0;31mKeyboardInterrupt\u001b[0m                         Traceback (most recent call last)",
      "Input \u001b[0;32mIn [139]\u001b[0m, in \u001b[0;36m<cell line: 13>\u001b[0;34m()\u001b[0m\n\u001b[1;32m     25\u001b[0m     loss\u001b[38;5;241m.\u001b[39mbackward()\n\u001b[1;32m     26\u001b[0m     optimizer\u001b[38;5;241m.\u001b[39mstep()\n\u001b[0;32m---> 27\u001b[0m     train_loss \u001b[38;5;241m+\u001b[39m\u001b[38;5;241m=\u001b[39m \u001b[43mloss\u001b[49m\u001b[38;5;241;43m.\u001b[39;49m\u001b[43mitem\u001b[49m\u001b[43m(\u001b[49m\u001b[43m)\u001b[49m\n\u001b[1;32m     29\u001b[0m \u001b[38;5;66;03m# for h_batch, f_batch in train_loader:\u001b[39;00m\n\u001b[1;32m     30\u001b[0m \u001b[38;5;66;03m#     h_batch, f_batch = h_batch.to(device), f_batch.to(device)\u001b[39;00m\n\u001b[1;32m     34\u001b[0m model\u001b[38;5;241m.\u001b[39meval()\n",
      "\u001b[0;31mKeyboardInterrupt\u001b[0m: "
     ]
    }
   ],
   "source": [
    "import torch\n",
    "import torch.nn as nn\n",
    "import torch.optim as optim\n",
    "\n",
    "device = torch.device(\"cuda\" if torch.cuda.is_available() else \"cpu\")\n",
    "\n",
    "model = model.to(device)\n",
    "criterion = nn.MSELoss()\n",
    "optimizer = optim.Adam(model.parameters(), lr=1e-3)\n",
    "\n",
    "EPOCHS = 600\n",
    "\n",
    "for epoch in range(EPOCHS):\n",
    "    model.train()\n",
    "    train_loss = 0.0\n",
    "    \n",
    "    for h_batch,f_batch in train_loader:\n",
    "        h_batch, f_batch = h_batch.to(device), f_batch.to(device)\n",
    "        seq_len = 1000\n",
    "        x = h_batch[:, :seq_len]\n",
    "        y = f_batch[:, :seq_len]\n",
    "        optimizer.zero_grad()\n",
    "        output = model(x)\n",
    "        loss = criterion(output, y)\n",
    "        loss.backward()\n",
    "        optimizer.step()\n",
    "        train_loss += loss.item()\n",
    "        \n",
    "    # for h_batch, f_batch in train_loader:\n",
    "    #     h_batch, f_batch = h_batch.to(device), f_batch.to(device)\n",
    "        \n",
    "\n",
    "\n",
    "    model.eval()\n",
    "    val_loss = 0.0\n",
    "    with torch.no_grad():\n",
    "        for h_batch, f_batch in val_loader:\n",
    "            h_batch, f_batch = h_batch.to(device), f_batch.to(device)\n",
    "            output = model(h_batch)\n",
    "            loss = criterion(output, f_batch)\n",
    "            val_loss += loss.item()\n",
    "\n",
    "    print(f\"Epoch {epoch+1}/{EPOCHS}, Train Loss: {train_loss/len(train_loader):.6f}, \"\n",
    "          f\"Val Loss: {val_loss/len(val_loader):.6f}\")"
   ]
  },
  {
   "cell_type": "markdown",
   "id": "8265550d",
   "metadata": {},
   "source": [
    "#### Test"
   ]
  },
  {
   "cell_type": "code",
   "execution_count": 165,
   "id": "fd9fe0e0",
   "metadata": {},
   "outputs": [],
   "source": [
    "data=np.load('data/dataset_h_eff/new_analysis_xxzx_model/dataset_2025-06-30_13-07.npz')\n",
    "\n",
    "h_eff=data['h_eff'][-100:]\n",
    "h=data['h'][-100:]\n",
    "\n",
    "h_tensor=torch.from_numpy(h)\n",
    "\n"
   ]
  },
  {
   "cell_type": "code",
   "execution_count": 166,
   "id": "a4953a82",
   "metadata": {},
   "outputs": [
    {
     "name": "stdout",
     "output_type": "stream",
     "text": [
      "torch.Size([50, 3001, 1]) tensor([[[-2.4010e-03],\n",
      "         [-4.3304e-03],\n",
      "         [-3.9525e-03],\n",
      "         ...,\n",
      "         [-7.6564e-01],\n",
      "         [-7.6845e-01],\n",
      "         [-7.6510e-01]],\n",
      "\n",
      "        [[-1.7743e-03],\n",
      "         [-3.6698e-03],\n",
      "         [-3.4508e-03],\n",
      "         ...,\n",
      "         [-7.1677e-01],\n",
      "         [-7.1920e-01],\n",
      "         [-7.2299e-01]],\n",
      "\n",
      "        [[-2.5599e-03],\n",
      "         [-4.5001e-03],\n",
      "         [-4.0531e-03],\n",
      "         ...,\n",
      "         [-9.0988e-01],\n",
      "         [-8.9657e-01],\n",
      "         [-8.7718e-01]],\n",
      "\n",
      "        ...,\n",
      "\n",
      "        [[-2.2502e-03],\n",
      "         [-4.1665e-03],\n",
      "         [-3.8443e-03],\n",
      "         ...,\n",
      "         [-1.6185e+00],\n",
      "         [-1.6105e+00],\n",
      "         [-1.6208e+00]],\n",
      "\n",
      "        [[-2.5818e-03],\n",
      "         [-4.5222e-03],\n",
      "         [-4.0634e-03],\n",
      "         ...,\n",
      "         [-1.2706e+00],\n",
      "         [-1.2526e+00],\n",
      "         [-1.2384e+00]],\n",
      "\n",
      "        [[-9.9439e-04],\n",
      "         [-2.8648e-03],\n",
      "         [-2.7167e-03],\n",
      "         ...,\n",
      "         [-1.4572e+00],\n",
      "         [-1.4601e+00],\n",
      "         [-1.4761e+00]]], grad_fn=<AddBackward0>)\n"
     ]
    }
   ],
   "source": [
    "model.eval()\n",
    "model=model.to(device='cpu').to(dtype=torch.float)\n",
    "h_eff_prediction=model(h_tensor.to(dtype=torch.float))\n",
    "\n",
    "print(h_eff_prediction.shape,h_eff_prediction)"
   ]
  },
  {
   "cell_type": "code",
   "execution_count": 219,
   "id": "903347a7",
   "metadata": {},
   "outputs": [
    {
     "data": {
      "image/png": "[encoded data removed]",
      "text/plain": [
       "<Figure size 432x288 with 1 Axes>"
      ]
     },
     "metadata": {
      "needs_background": "light"
     },
     "output_type": "display_data"
    }
   ],
   "source": [
    "import matplotlib.pyplot as plt\n",
    "idx=np.random.randint(0,50)\n",
    "plt.plot(h_eff_prediction[idx,1:,0].detach().numpy(),color='red',linestyle='--')\n",
    "plt.plot(h_eff[idx,1:,0],color='black',alpha=0.7)\n",
    "\n",
    "plt.show()"
   ]
  },
  {
   "cell_type": "markdown",
   "id": "9e4f0eeb",
   "metadata": {},
   "source": [
    "#### Autoregressive case"
   ]
  },
  {
   "cell_type": "code",
   "execution_count": 220,
   "id": "397cf515",
   "metadata": {},
   "outputs": [],
   "source": [
    "import torch\n",
    "import torch.nn as nn\n",
    "\n",
    "class AutoRegressiveTransformer(nn.Module):\n",
    "    def __init__(self, input_dim=2, model_dim=128, num_heads=4, num_layers=2, dropout=0.1):\n",
    "        super().__init__()\n",
    "        self.input_proj = nn.Linear(input_dim, model_dim)\n",
    "        self.positional_encoding = PositionalEncoding(model_dim)\n",
    "\n",
    "        encoder_layer = nn.TransformerEncoderLayer(d_model=model_dim, nhead=num_heads, dropout=dropout, batch_first=True)\n",
    "        self.transformer = nn.TransformerEncoder(encoder_layer, num_layers=num_layers)\n",
    "\n",
    "        self.predictor = nn.Linear(model_dim, 1)\n",
    "\n",
    "    def forward(self, h_f_seq):\n",
    "        # h_f_seq: [batch, time, 2]  (concatenated [h(t), f(t)] input)\n",
    "        x = self.input_proj(h_f_seq)              # [batch, time, model_dim]\n",
    "        x = self.positional_encoding(x)           # Add position info\n",
    "        x = self.transformer(x)                   # [batch, time, model_dim]\n",
    "        return self.predictor(x)                  # [batch, time, 1]"
   ]
  },
  {
   "cell_type": "code",
   "execution_count": 221,
   "id": "c2a10d24",
   "metadata": {},
   "outputs": [
    {
     "name": "stderr",
     "output_type": "stream",
     "text": [
      "  0%|          | 0/100 [00:00<?, ?it/s]"
     ]
    },
    {
     "name": "stdout",
     "output_type": "stream",
     "text": [
      "0.5507517457008362\n",
      "0.43313661217689514\n"
     ]
    },
    {
     "name": "stderr",
     "output_type": "stream",
     "text": [
      "  0%|          | 0/100 [00:07<?, ?it/s]\n"
     ]
    },
    {
     "ename": "KeyboardInterrupt",
     "evalue": "",
     "output_type": "error",
     "traceback": [
      "\u001b[0;31m---------------------------------------------------------------------------\u001b[0m",
      "\u001b[0;31mKeyboardInterrupt\u001b[0m                         Traceback (most recent call last)",
      "Input \u001b[0;32mIn [221]\u001b[0m, in \u001b[0;36m<cell line: 11>\u001b[0;34m()\u001b[0m\n\u001b[1;32m     19\u001b[0m loss \u001b[38;5;241m=\u001b[39m criterion(output[:, :\u001b[38;5;241m-\u001b[39m\u001b[38;5;241m1\u001b[39m], target[:, \u001b[38;5;241m1\u001b[39m:])  \u001b[38;5;66;03m# predict f(t+1)\u001b[39;00m\n\u001b[1;32m     21\u001b[0m optimizer\u001b[38;5;241m.\u001b[39mzero_grad()\n\u001b[0;32m---> 22\u001b[0m \u001b[43mloss\u001b[49m\u001b[38;5;241;43m.\u001b[39;49m\u001b[43mbackward\u001b[49m\u001b[43m(\u001b[49m\u001b[43m)\u001b[49m\n\u001b[1;32m     23\u001b[0m optimizer\u001b[38;5;241m.\u001b[39mstep()\n\u001b[1;32m     24\u001b[0m train_loss \u001b[38;5;241m+\u001b[39m\u001b[38;5;241m=\u001b[39m loss\u001b[38;5;241m.\u001b[39mitem()\n",
      "File \u001b[0;32m/opt/anaconda3/envs/tddft_env/lib/python3.9/site-packages/torch/_tensor.py:492\u001b[0m, in \u001b[0;36mTensor.backward\u001b[0;34m(self, gradient, retain_graph, create_graph, inputs)\u001b[0m\n\u001b[1;32m    482\u001b[0m \u001b[38;5;28;01mif\u001b[39;00m has_torch_function_unary(\u001b[38;5;28mself\u001b[39m):\n\u001b[1;32m    483\u001b[0m     \u001b[38;5;28;01mreturn\u001b[39;00m handle_torch_function(\n\u001b[1;32m    484\u001b[0m         Tensor\u001b[38;5;241m.\u001b[39mbackward,\n\u001b[1;32m    485\u001b[0m         (\u001b[38;5;28mself\u001b[39m,),\n\u001b[0;32m   (...)\u001b[0m\n\u001b[1;32m    490\u001b[0m         inputs\u001b[38;5;241m=\u001b[39minputs,\n\u001b[1;32m    491\u001b[0m     )\n\u001b[0;32m--> 492\u001b[0m \u001b[43mtorch\u001b[49m\u001b[38;5;241;43m.\u001b[39;49m\u001b[43mautograd\u001b[49m\u001b[38;5;241;43m.\u001b[39;49m\u001b[43mbackward\u001b[49m\u001b[43m(\u001b[49m\n\u001b[1;32m    493\u001b[0m \u001b[43m    \u001b[49m\u001b[38;5;28;43mself\u001b[39;49m\u001b[43m,\u001b[49m\u001b[43m \u001b[49m\u001b[43mgradient\u001b[49m\u001b[43m,\u001b[49m\u001b[43m \u001b[49m\u001b[43mretain_graph\u001b[49m\u001b[43m,\u001b[49m\u001b[43m \u001b[49m\u001b[43mcreate_graph\u001b[49m\u001b[43m,\u001b[49m\u001b[43m \u001b[49m\u001b[43minputs\u001b[49m\u001b[38;5;241;43m=\u001b[39;49m\u001b[43minputs\u001b[49m\n\u001b[1;32m    494\u001b[0m \u001b[43m\u001b[49m\u001b[43m)\u001b[49m\n",
      "File \u001b[0;32m/opt/anaconda3/envs/tddft_env/lib/python3.9/site-packages/torch/autograd/__init__.py:251\u001b[0m, in \u001b[0;36mbackward\u001b[0;34m(tensors, grad_tensors, retain_graph, create_graph, grad_variables, inputs)\u001b[0m\n\u001b[1;32m    246\u001b[0m     retain_graph \u001b[38;5;241m=\u001b[39m create_graph\n\u001b[1;32m    248\u001b[0m \u001b[38;5;66;03m# The reason we repeat the same comment below is that\u001b[39;00m\n\u001b[1;32m    249\u001b[0m \u001b[38;5;66;03m# some Python versions print out the first line of a multi-line function\u001b[39;00m\n\u001b[1;32m    250\u001b[0m \u001b[38;5;66;03m# calls in the traceback and some print out the last line\u001b[39;00m\n\u001b[0;32m--> 251\u001b[0m \u001b[43mVariable\u001b[49m\u001b[38;5;241;43m.\u001b[39;49m\u001b[43m_execution_engine\u001b[49m\u001b[38;5;241;43m.\u001b[39;49m\u001b[43mrun_backward\u001b[49m\u001b[43m(\u001b[49m\u001b[43m  \u001b[49m\u001b[38;5;66;43;03m# Calls into the C++ engine to run the backward pass\u001b[39;49;00m\n\u001b[1;32m    252\u001b[0m \u001b[43m    \u001b[49m\u001b[43mtensors\u001b[49m\u001b[43m,\u001b[49m\n\u001b[1;32m    253\u001b[0m \u001b[43m    \u001b[49m\u001b[43mgrad_tensors_\u001b[49m\u001b[43m,\u001b[49m\n\u001b[1;32m    254\u001b[0m \u001b[43m    \u001b[49m\u001b[43mretain_graph\u001b[49m\u001b[43m,\u001b[49m\n\u001b[1;32m    255\u001b[0m \u001b[43m    \u001b[49m\u001b[43mcreate_graph\u001b[49m\u001b[43m,\u001b[49m\n\u001b[1;32m    256\u001b[0m \u001b[43m    \u001b[49m\u001b[43minputs\u001b[49m\u001b[43m,\u001b[49m\n\u001b[1;32m    257\u001b[0m \u001b[43m    \u001b[49m\u001b[43mallow_unreachable\u001b[49m\u001b[38;5;241;43m=\u001b[39;49m\u001b[38;5;28;43;01mTrue\u001b[39;49;00m\u001b[43m,\u001b[49m\n\u001b[1;32m    258\u001b[0m \u001b[43m    \u001b[49m\u001b[43maccumulate_grad\u001b[49m\u001b[38;5;241;43m=\u001b[39;49m\u001b[38;5;28;43;01mTrue\u001b[39;49;00m\u001b[43m,\u001b[49m\n\u001b[1;32m    259\u001b[0m \u001b[43m\u001b[49m\u001b[43m)\u001b[49m\n",
      "\u001b[0;31mKeyboardInterrupt\u001b[0m: "
     ]
    }
   ],
   "source": [
    "from tqdm import trange\n",
    "\n",
    "model=AutoRegressiveTransformer()\n",
    "\n",
    "num_epochs=100\n",
    "\n",
    "optimizer = torch.optim.Adam(model.parameters(), lr=1e-4)\n",
    "criterion = nn.MSELoss()\n",
    "\n",
    "train_loss=0.\n",
    "for epoch in trange(num_epochs):\n",
    "    for h_seq, f_seq in train_loader:\n",
    "        h_seq=h_seq[:,:500]\n",
    "        f_seq=f_seq[:,:500]\n",
    "        input_seq = torch.cat([h_seq, f_seq], dim=-1)  # [batch, T, 2]\n",
    "        target = f_seq\n",
    "\n",
    "        output = model(input_seq)\n",
    "        loss = criterion(output[:, :-1], target[:, 1:])  # predict f(t+1)\n",
    "\n",
    "        optimizer.zero_grad()\n",
    "        loss.backward()\n",
    "        optimizer.step()\n",
    "        train_loss += loss.item()\n",
    "        print(loss.item())\n",
    "\n",
    "    print(f\"Epoch {epoch+1}/{EPOCHS}, Train Loss: {train_loss/len(train_loader):.6f}, \")\n",
    "    \n",
    "    \n",
    "    "
   ]
  },
  {
   "cell_type": "code",
   "execution_count": null,
   "id": "7a6e155d",
   "metadata": {},
   "outputs": [],
   "source": [
    "def autoregressive_forecast(model, h_seq, f_start, steps):\n",
    "    \"\"\"\n",
    "    h_seq: [1, T+steps, 1]  (known exogenous values)\n",
    "    f_start: [1, T, 1]      (initial known target values)\n",
    "    \"\"\"\n",
    "    preds = []\n",
    "    f_seq = f_start.clone()\n",
    "\n",
    "    for t in range(steps):\n",
    "        inp = torch.cat([h_seq[:, :f_seq.shape[1]], f_seq], dim=-1)\n",
    "        out = model(inp)\n",
    "        next_f = out[:, -1:]   # last time step\n",
    "        f_seq = torch.cat([f_seq, next_f], dim=1)\n",
    "        preds.append(next_f)\n",
    "\n",
    "    return torch.cat(preds, dim=1)  # [1, steps, 1]"
   ]
  },
  {
   "cell_type": "code",
   "execution_count": null,
   "id": "12b479c7",
   "metadata": {},
   "outputs": [],
   "source": []
  }
 ],
 "metadata": {
  "kernelspec": {
   "display_name": "tddft_env",
   "language": "python",
   "name": "python3"
  },
  "language_info": {
   "codemirror_mode": {
    "name": "ipython",
    "version": 3
   },
   "file_extension": ".py",
   "mimetype": "text/x-python",
   "name": "python",
   "nbconvert_exporter": "python",
   "pygments_lexer": "ipython3",
   "version": "3.9.0"
  }
 },
 "nbformat": 4,
 "nbformat_minor": 5
}
