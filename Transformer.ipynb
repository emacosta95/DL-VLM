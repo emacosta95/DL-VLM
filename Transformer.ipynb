{
 "cells": [
  {
   "cell_type": "markdown",
   "id": "1a7aa280",
   "metadata": {},
   "source": [
    "## Trasnfer learning of a sequence to sequence transformer"
   ]
  },
  {
   "cell_type": "code",
   "execution_count": 2,
   "id": "f2ccfaea",
   "metadata": {},
   "outputs": [],
   "source": [
    "from transformers import TimeSeriesTransformerConfig, TimeSeriesTransformerModel\n",
    "import torch\n",
    "import torch.nn as nn\n",
    "\n",
    "class TimeSeriesTransformer(nn.Module):\n",
    "    def __init__(self, input_dim=1, model_dim=256, num_heads=4, num_layers=2, dropout=0.1):\n",
    "        super().__init__()\n",
    "        self.input_proj = nn.Linear(input_dim, model_dim)\n",
    "        self.positional_encoding = PositionalEncoding(model_dim)\n",
    "\n",
    "        encoder_layer = nn.TransformerEncoderLayer(d_model=model_dim, nhead=num_heads, dropout=dropout, batch_first=True)\n",
    "        self.transformer_encoder = nn.TransformerEncoder(encoder_layer, num_layers=num_layers)\n",
    "\n",
    "        self.output_proj = nn.Linear(model_dim, 1)\n",
    "\n",
    "    def forward(self, x):\n",
    "        # x shape: [batch, time, 1]\n",
    "        x = self.input_proj(x)                     # [batch, time, model_dim]\n",
    "        x = self.positional_encoding(x)           # Add position info\n",
    "        x = self.transformer_encoder(x)           # [batch, time, model_dim]\n",
    "        return self.output_proj(x)                # [batch, time, 1]\n",
    "\n",
    "\n",
    "class PositionalEncoding(nn.Module):\n",
    "    def __init__(self, d_model, max_len=5000):\n",
    "        super().__init__()\n",
    "        pe = torch.zeros(max_len, d_model)\n",
    "        position = torch.arange(0, max_len, dtype=torch.float32).unsqueeze(1)\n",
    "        div_term = torch.exp(torch.arange(0, d_model, 2).float() * (-torch.log(torch.tensor(10000.0)) / d_model))\n",
    "\n",
    "        pe[:, 0::2] = torch.sin(position * div_term)\n",
    "        pe[:, 1::2] = torch.cos(position * div_term)\n",
    "        pe = pe.unsqueeze(0)  # [1, max_len, d_model]\n",
    "        self.register_buffer('pe', pe)\n",
    "\n",
    "    def forward(self, x):\n",
    "        x = x + self.pe[:, :x.size(1)]\n",
    "        return x"
   ]
  },
  {
   "cell_type": "code",
   "execution_count": 57,
   "id": "45d45a43",
   "metadata": {},
   "outputs": [],
   "source": [
    "import torch\n",
    "import torch.nn as nn\n",
    "import torch.nn.functional as F\n",
    "\n",
    "class LearnedPositionalEncoding(nn.Module):\n",
    "    def __init__(self, d_model, max_len=10000):\n",
    "        super().__init__()\n",
    "        self.pos_embedding = nn.Embedding(max_len, d_model)\n",
    "\n",
    "    def forward(self, x):\n",
    "        positions = torch.arange(0, x.size(1), device=x.device).unsqueeze(0)\n",
    "        return x + self.pos_embedding(positions)\n",
    "\n",
    "class TransformerSeq2Seq(nn.Module):\n",
    "    def __init__(self, input_dim=1, model_dim=256, num_heads=4, num_layers=4, dropout=0.1, max_len=10000):\n",
    "        super().__init__()\n",
    "        self.input_proj = nn.Linear(input_dim, model_dim)\n",
    "        self.pos_encoder = PositionalEncoding(model_dim, max_len)\n",
    "\n",
    "        encoder_layer = nn.TransformerEncoderLayer(\n",
    "            d_model=model_dim, nhead=num_heads, dim_feedforward=512, dropout=dropout, batch_first=True\n",
    "        )\n",
    "        self.transformer = nn.TransformerEncoder(encoder_layer, num_layers=num_layers)\n",
    "\n",
    "        self.output_proj = nn.Linear(model_dim, 1)\n",
    "\n",
    "    def forward(self, x):\n",
    "        # x: [batch, seq_len, 1]\n",
    "        x = self.input_proj(x)           # [batch, seq_len, model_dim]\n",
    "        x = self.pos_encoder(x)          # Add learned positional encodings\n",
    "        x = self.transformer(x)          # [batch, seq_len, model_dim]\n",
    "        return self.output_proj(x)       # [batch, seq_len, 1]"
   ]
  },
  {
   "cell_type": "code",
   "execution_count": 60,
   "id": "f9d08b9b",
   "metadata": {},
   "outputs": [
    {
     "name": "stdout",
     "output_type": "stream",
     "text": [
      "TransformerSeq2Seq(\n",
      "  (input_proj): Linear(in_features=1, out_features=256, bias=True)\n",
      "  (pos_encoder): PositionalEncoding()\n",
      "  (transformer): TransformerEncoder(\n",
      "    (layers): ModuleList(\n",
      "      (0-3): 4 x TransformerEncoderLayer(\n",
      "        (self_attn): MultiheadAttention(\n",
      "          (out_proj): NonDynamicallyQuantizableLinear(in_features=256, out_features=256, bias=True)\n",
      "        )\n",
      "        (linear1): Linear(in_features=256, out_features=512, bias=True)\n",
      "        (dropout): Dropout(p=0.1, inplace=False)\n",
      "        (linear2): Linear(in_features=512, out_features=256, bias=True)\n",
      "        (norm1): LayerNorm((256,), eps=1e-05, elementwise_affine=True)\n",
      "        (norm2): LayerNorm((256,), eps=1e-05, elementwise_affine=True)\n",
      "        (dropout1): Dropout(p=0.1, inplace=False)\n",
      "        (dropout2): Dropout(p=0.1, inplace=False)\n",
      "      )\n",
      "    )\n",
      "  )\n",
      "  (output_proj): Linear(in_features=256, out_features=1, bias=True)\n",
      ")\n"
     ]
    }
   ],
   "source": [
    "model=TransformerSeq2Seq()\n",
    "print(model)"
   ]
  },
  {
   "cell_type": "markdown",
   "id": "9a85d082",
   "metadata": {},
   "source": [
    "#### Dataloading"
   ]
  },
  {
   "cell_type": "code",
   "execution_count": 30,
   "id": "3d13c167",
   "metadata": {},
   "outputs": [],
   "source": [
    "import numpy as np\n",
    "import matplotlib.pyplot as plt"
   ]
  },
  {
   "cell_type": "code",
   "execution_count": 59,
   "id": "34c10466",
   "metadata": {},
   "outputs": [
    {
     "data": {
      "image/png": "[encoded data removed]",
      "text/plain": [
       "<Figure size 432x288 with 1 Axes>"
      ]
     },
     "metadata": {
      "needs_background": "light"
     },
     "output_type": "display_data"
    },
    {
     "name": "stdout",
     "output_type": "stream",
     "text": [
      "(10000, 1001, 1) (10000, 1001, 1)\n"
     ]
    }
   ],
   "source": [
    "data=np.load('data/dataset_h_eff/new_analysis_xxzx_model/dataset_2025-03-03_16-43.npz')\n",
    "\n",
    "h_eff=data['h_eff'][:10000,]\n",
    "h=data['h'][:10000,]\n",
    "\n",
    "plt.plot(h_eff[100,1:,0])\n",
    "plt.show()\n",
    "print(h_eff.shape,h.shape)"
   ]
  },
  {
   "cell_type": "code",
   "execution_count": 61,
   "id": "3954bf45",
   "metadata": {},
   "outputs": [],
   "source": [
    "import torch\n",
    "from torch.utils.data import Dataset\n",
    "\n",
    "class TimeSeriesDataset(Dataset):\n",
    "    def __init__(self, h_array, f_array):\n",
    "        self.h = torch.from_numpy(h_array).float()  # shape: [B, T, 1]\n",
    "        self.f = torch.from_numpy(f_array).float()  # shape: [B, T, 1]\n",
    "\n",
    "    def __len__(self):\n",
    "        return len(self.h)\n",
    "\n",
    "    def __getitem__(self, idx):\n",
    "        return self.h[idx], self.f[idx]"
   ]
  },
  {
   "cell_type": "code",
   "execution_count": 62,
   "id": "e7ebdc5f",
   "metadata": {},
   "outputs": [],
   "source": [
    "from torch.utils.data import DataLoader, random_split\n",
    "\n",
    "# Assume h_array and f_array are numpy arrays of shape [batch, time, 1]\n",
    "dataset = TimeSeriesDataset(h, h_eff)\n",
    "\n",
    "# Define split\n",
    "train_size = int(0.8 * len(dataset))\n",
    "val_size = len(dataset) - train_size\n",
    "\n",
    "train_dataset, val_dataset = random_split(dataset, [train_size, val_size])\n",
    "\n",
    "# Create loaders\n",
    "train_loader = DataLoader(train_dataset, batch_size=32, shuffle=True)\n",
    "val_loader = DataLoader(val_dataset, batch_size=32, shuffle=False)"
   ]
  },
  {
   "cell_type": "code",
   "execution_count": 63,
   "id": "251253cc",
   "metadata": {},
   "outputs": [
    {
     "name": "stdout",
     "output_type": "stream",
     "text": [
      "Epoch 1/600, Train Loss: 0.254909, Val Loss: 0.027025\n",
      "Epoch 2/600, Train Loss: 0.015646, Val Loss: 0.022926\n",
      "Epoch 3/600, Train Loss: 0.011088, Val Loss: 0.021329\n",
      "Epoch 4/600, Train Loss: 0.009444, Val Loss: 0.022702\n"
     ]
    },
    {
     "ename": "KeyboardInterrupt",
     "evalue": "",
     "output_type": "error",
     "traceback": [
      "\u001b[0;31m---------------------------------------------------------------------------\u001b[0m",
      "\u001b[0;31mKeyboardInterrupt\u001b[0m                         Traceback (most recent call last)",
      "Input \u001b[0;32mIn [63]\u001b[0m, in \u001b[0;36m<cell line: 13>\u001b[0;34m()\u001b[0m\n\u001b[1;32m     39\u001b[0m         output \u001b[38;5;241m=\u001b[39m model(h_batch)\n\u001b[1;32m     40\u001b[0m         loss \u001b[38;5;241m=\u001b[39m criterion(output, f_batch)\n\u001b[0;32m---> 41\u001b[0m         val_loss \u001b[38;5;241m+\u001b[39m\u001b[38;5;241m=\u001b[39m \u001b[43mloss\u001b[49m\u001b[38;5;241;43m.\u001b[39;49m\u001b[43mitem\u001b[49m\u001b[43m(\u001b[49m\u001b[43m)\u001b[49m\n\u001b[1;32m     43\u001b[0m \u001b[38;5;28mprint\u001b[39m(\u001b[38;5;124mf\u001b[39m\u001b[38;5;124m\"\u001b[39m\u001b[38;5;124mEpoch \u001b[39m\u001b[38;5;132;01m{\u001b[39;00mepoch\u001b[38;5;241m+\u001b[39m\u001b[38;5;241m1\u001b[39m\u001b[38;5;132;01m}\u001b[39;00m\u001b[38;5;124m/\u001b[39m\u001b[38;5;132;01m{\u001b[39;00mEPOCHS\u001b[38;5;132;01m}\u001b[39;00m\u001b[38;5;124m, Train Loss: \u001b[39m\u001b[38;5;132;01m{\u001b[39;00mtrain_loss\u001b[38;5;241m/\u001b[39m\u001b[38;5;28mlen\u001b[39m(train_loader)\u001b[38;5;132;01m:\u001b[39;00m\u001b[38;5;124m.6f\u001b[39m\u001b[38;5;132;01m}\u001b[39;00m\u001b[38;5;124m, \u001b[39m\u001b[38;5;124m\"\u001b[39m\n\u001b[1;32m     44\u001b[0m       \u001b[38;5;124mf\u001b[39m\u001b[38;5;124m\"\u001b[39m\u001b[38;5;124mVal Loss: \u001b[39m\u001b[38;5;132;01m{\u001b[39;00mval_loss\u001b[38;5;241m/\u001b[39m\u001b[38;5;28mlen\u001b[39m(val_loader)\u001b[38;5;132;01m:\u001b[39;00m\u001b[38;5;124m.6f\u001b[39m\u001b[38;5;132;01m}\u001b[39;00m\u001b[38;5;124m\"\u001b[39m)\n",
      "\u001b[0;31mKeyboardInterrupt\u001b[0m: "
     ]
    }
   ],
   "source": [
    "import torch\n",
    "import torch.nn as nn\n",
    "import torch.optim as optim\n",
    "\n",
    "device = torch.device(\"cuda\" if torch.cuda.is_available() else \"cpu\")\n",
    "\n",
    "model = model.to(device)\n",
    "criterion = nn.MSELoss()\n",
    "optimizer = optim.Adam(model.parameters(), lr=1e-3)\n",
    "\n",
    "EPOCHS = 600\n",
    "\n",
    "for epoch in range(EPOCHS):\n",
    "    model.train()\n",
    "    train_loss = 0.0\n",
    "    \n",
    "    for h_batch,f_batch in train_loader:\n",
    "        h_batch, f_batch = h_batch.to(device), f_batch.to(device)\n",
    "        seq_len = 700\n",
    "        x = h_batch[:, :seq_len]\n",
    "        y = f_batch[:, :seq_len]\n",
    "        optimizer.zero_grad()\n",
    "        output = model(x)\n",
    "        loss = criterion(output, y)\n",
    "        loss.backward()\n",
    "        optimizer.step()\n",
    "        train_loss += loss.item()\n",
    "        \n",
    "    # for h_batch, f_batch in train_loader:\n",
    "    #     h_batch, f_batch = h_batch.to(device), f_batch.to(device)\n",
    "        \n",
    "\n",
    "\n",
    "    model.eval()\n",
    "    val_loss = 0.0\n",
    "    with torch.no_grad():\n",
    "        for h_batch, f_batch in val_loader:\n",
    "            h_batch, f_batch = h_batch.to(device), f_batch.to(device)\n",
    "            output = model(h_batch)\n",
    "            loss = criterion(output, f_batch)\n",
    "            val_loss += loss.item()\n",
    "\n",
    "    print(f\"Epoch {epoch+1}/{EPOCHS}, Train Loss: {train_loss/len(train_loader):.6f}, \"\n",
    "          f\"Val Loss: {val_loss/len(val_loader):.6f}\")"
   ]
  },
  {
   "cell_type": "markdown",
   "id": "8265550d",
   "metadata": {},
   "source": [
    "#### Test"
   ]
  },
  {
   "cell_type": "code",
   "execution_count": 64,
   "id": "fd9fe0e0",
   "metadata": {},
   "outputs": [],
   "source": [
    "data=np.load('data/dataset_h_eff/new_analysis_xxzx_model/dataset_2025-03-03_16-43.npz')\n",
    "\n",
    "h_eff=data['h_eff'][:100]\n",
    "h=data['h'][:100]\n",
    "\n",
    "h_tensor=torch.from_numpy(h)\n",
    "\n"
   ]
  },
  {
   "cell_type": "code",
   "execution_count": 65,
   "id": "a4953a82",
   "metadata": {},
   "outputs": [
    {
     "name": "stdout",
     "output_type": "stream",
     "text": [
      "torch.Size([100, 1001, 1]) tensor([[[ 0.0223],\n",
      "         [ 0.0251],\n",
      "         [ 0.0260],\n",
      "         ...,\n",
      "         [-0.8252],\n",
      "         [-0.8447],\n",
      "         [-0.8654]],\n",
      "\n",
      "        [[ 0.0336],\n",
      "         [ 0.0351],\n",
      "         [ 0.0354],\n",
      "         ...,\n",
      "         [-1.5876],\n",
      "         [-1.5767],\n",
      "         [-1.5575]],\n",
      "\n",
      "        [[ 0.0347],\n",
      "         [ 0.0378],\n",
      "         [ 0.0386],\n",
      "         ...,\n",
      "         [-1.5755],\n",
      "         [-1.5870],\n",
      "         [-1.5941]],\n",
      "\n",
      "        ...,\n",
      "\n",
      "        [[ 0.0337],\n",
      "         [ 0.0357],\n",
      "         [ 0.0362],\n",
      "         ...,\n",
      "         [-0.8916],\n",
      "         [-0.8888],\n",
      "         [-0.8859]],\n",
      "\n",
      "        [[ 0.0376],\n",
      "         [ 0.0393],\n",
      "         [ 0.0395],\n",
      "         ...,\n",
      "         [-1.3164],\n",
      "         [-1.3186],\n",
      "         [-1.3154]],\n",
      "\n",
      "        [[ 0.0315],\n",
      "         [ 0.0331],\n",
      "         [ 0.0334],\n",
      "         ...,\n",
      "         [-2.0900],\n",
      "         [-2.1119],\n",
      "         [-2.1334]]], grad_fn=<ViewBackward0>)\n"
     ]
    }
   ],
   "source": [
    "model.eval()\n",
    "model=model.to(device='cpu').to(dtype=torch.float)\n",
    "h_eff_prediction=model(h_tensor.to(dtype=torch.float))\n",
    "\n",
    "print(h_eff_prediction.shape,h_eff_prediction)"
   ]
  },
  {
   "cell_type": "code",
   "execution_count": 78,
   "id": "903347a7",
   "metadata": {},
   "outputs": [
    {
     "data": {
      "image/png": "[encoded data removed]",
      "text/plain": [
       "<Figure size 432x288 with 1 Axes>"
      ]
     },
     "metadata": {
      "needs_background": "light"
     },
     "output_type": "display_data"
    }
   ],
   "source": [
    "import matplotlib.pyplot as plt\n",
    "idx=np.random.randint(0,100)\n",
    "plt.plot(h_eff_prediction[idx,1:,0].detach().numpy())\n",
    "plt.plot(h_eff[idx,1:,0])\n",
    "\n",
    "plt.show()"
   ]
  },
  {
   "cell_type": "markdown",
   "id": "9e4f0eeb",
   "metadata": {},
   "source": [
    "#### Autoregressive case"
   ]
  },
  {
   "cell_type": "code",
   "execution_count": 79,
   "id": "397cf515",
   "metadata": {},
   "outputs": [],
   "source": [
    "import torch\n",
    "import torch.nn as nn\n",
    "\n",
    "class AutoRegressiveTransformer(nn.Module):\n",
    "    def __init__(self, input_dim=2, model_dim=128, num_heads=4, num_layers=2, dropout=0.1):\n",
    "        super().__init__()\n",
    "        self.input_proj = nn.Linear(input_dim, model_dim)\n",
    "        self.positional_encoding = PositionalEncoding(model_dim)\n",
    "\n",
    "        encoder_layer = nn.TransformerEncoderLayer(d_model=model_dim, nhead=num_heads, dropout=dropout, batch_first=True)\n",
    "        self.transformer = nn.TransformerEncoder(encoder_layer, num_layers=num_layers)\n",
    "\n",
    "        self.predictor = nn.Linear(model_dim, 1)\n",
    "\n",
    "    def forward(self, h_f_seq):\n",
    "        # h_f_seq: [batch, time, 2]  (concatenated [h(t), f(t)] input)\n",
    "        x = self.input_proj(h_f_seq)              # [batch, time, model_dim]\n",
    "        x = self.positional_encoding(x)           # Add position info\n",
    "        x = self.transformer(x)                   # [batch, time, model_dim]\n",
    "        return self.predictor(x)                  # [batch, time, 1]"
   ]
  },
  {
   "cell_type": "code",
   "execution_count": null,
   "id": "c2a10d24",
   "metadata": {},
   "outputs": [
    {
     "name": "stderr",
     "output_type": "stream",
     "text": [
      "  0%|          | 0/100 [00:00<?, ?it/s]"
     ]
    },
    {
     "name": "stdout",
     "output_type": "stream",
     "text": [
      "0.5857499837875366\n",
      "0.7614897787570953\n",
      "1.11081662774086\n",
      "1.507107436656952\n",
      "1.7868711352348328\n",
      "1.9481360018253326\n"
     ]
    },
    {
     "name": "stderr",
     "output_type": "stream",
     "text": [
      "  0%|          | 0/100 [00:12<?, ?it/s]\n"
     ]
    },
    {
     "ename": "KeyboardInterrupt",
     "evalue": "",
     "output_type": "error",
     "traceback": [
      "\u001b[0;31m---------------------------------------------------------------------------\u001b[0m",
      "\u001b[0;31mKeyboardInterrupt\u001b[0m                         Traceback (most recent call last)",
      "Input \u001b[0;32mIn [83]\u001b[0m, in \u001b[0;36m<cell line: 11>\u001b[0;34m()\u001b[0m\n\u001b[1;32m     19\u001b[0m loss \u001b[38;5;241m=\u001b[39m criterion(output[:, :\u001b[38;5;241m-\u001b[39m\u001b[38;5;241m1\u001b[39m], target[:, \u001b[38;5;241m1\u001b[39m:])  \u001b[38;5;66;03m# predict f(t+1)\u001b[39;00m\n\u001b[1;32m     21\u001b[0m optimizer\u001b[38;5;241m.\u001b[39mzero_grad()\n\u001b[0;32m---> 22\u001b[0m \u001b[43mloss\u001b[49m\u001b[38;5;241;43m.\u001b[39;49m\u001b[43mbackward\u001b[49m\u001b[43m(\u001b[49m\u001b[43m)\u001b[49m\n\u001b[1;32m     23\u001b[0m optimizer\u001b[38;5;241m.\u001b[39mstep()\n\u001b[1;32m     24\u001b[0m train_loss \u001b[38;5;241m+\u001b[39m\u001b[38;5;241m=\u001b[39m loss\u001b[38;5;241m.\u001b[39mitem()\n",
      "File \u001b[0;32m/opt/anaconda3/envs/tddft_env/lib/python3.9/site-packages/torch/_tensor.py:492\u001b[0m, in \u001b[0;36mTensor.backward\u001b[0;34m(self, gradient, retain_graph, create_graph, inputs)\u001b[0m\n\u001b[1;32m    482\u001b[0m \u001b[38;5;28;01mif\u001b[39;00m has_torch_function_unary(\u001b[38;5;28mself\u001b[39m):\n\u001b[1;32m    483\u001b[0m     \u001b[38;5;28;01mreturn\u001b[39;00m handle_torch_function(\n\u001b[1;32m    484\u001b[0m         Tensor\u001b[38;5;241m.\u001b[39mbackward,\n\u001b[1;32m    485\u001b[0m         (\u001b[38;5;28mself\u001b[39m,),\n\u001b[0;32m   (...)\u001b[0m\n\u001b[1;32m    490\u001b[0m         inputs\u001b[38;5;241m=\u001b[39minputs,\n\u001b[1;32m    491\u001b[0m     )\n\u001b[0;32m--> 492\u001b[0m \u001b[43mtorch\u001b[49m\u001b[38;5;241;43m.\u001b[39;49m\u001b[43mautograd\u001b[49m\u001b[38;5;241;43m.\u001b[39;49m\u001b[43mbackward\u001b[49m\u001b[43m(\u001b[49m\n\u001b[1;32m    493\u001b[0m \u001b[43m    \u001b[49m\u001b[38;5;28;43mself\u001b[39;49m\u001b[43m,\u001b[49m\u001b[43m \u001b[49m\u001b[43mgradient\u001b[49m\u001b[43m,\u001b[49m\u001b[43m \u001b[49m\u001b[43mretain_graph\u001b[49m\u001b[43m,\u001b[49m\u001b[43m \u001b[49m\u001b[43mcreate_graph\u001b[49m\u001b[43m,\u001b[49m\u001b[43m \u001b[49m\u001b[43minputs\u001b[49m\u001b[38;5;241;43m=\u001b[39;49m\u001b[43minputs\u001b[49m\n\u001b[1;32m    494\u001b[0m \u001b[43m\u001b[49m\u001b[43m)\u001b[49m\n",
      "File \u001b[0;32m/opt/anaconda3/envs/tddft_env/lib/python3.9/site-packages/torch/autograd/__init__.py:251\u001b[0m, in \u001b[0;36mbackward\u001b[0;34m(tensors, grad_tensors, retain_graph, create_graph, grad_variables, inputs)\u001b[0m\n\u001b[1;32m    246\u001b[0m     retain_graph \u001b[38;5;241m=\u001b[39m create_graph\n\u001b[1;32m    248\u001b[0m \u001b[38;5;66;03m# The reason we repeat the same comment below is that\u001b[39;00m\n\u001b[1;32m    249\u001b[0m \u001b[38;5;66;03m# some Python versions print out the first line of a multi-line function\u001b[39;00m\n\u001b[1;32m    250\u001b[0m \u001b[38;5;66;03m# calls in the traceback and some print out the last line\u001b[39;00m\n\u001b[0;32m--> 251\u001b[0m \u001b[43mVariable\u001b[49m\u001b[38;5;241;43m.\u001b[39;49m\u001b[43m_execution_engine\u001b[49m\u001b[38;5;241;43m.\u001b[39;49m\u001b[43mrun_backward\u001b[49m\u001b[43m(\u001b[49m\u001b[43m  \u001b[49m\u001b[38;5;66;43;03m# Calls into the C++ engine to run the backward pass\u001b[39;49;00m\n\u001b[1;32m    252\u001b[0m \u001b[43m    \u001b[49m\u001b[43mtensors\u001b[49m\u001b[43m,\u001b[49m\n\u001b[1;32m    253\u001b[0m \u001b[43m    \u001b[49m\u001b[43mgrad_tensors_\u001b[49m\u001b[43m,\u001b[49m\n\u001b[1;32m    254\u001b[0m \u001b[43m    \u001b[49m\u001b[43mretain_graph\u001b[49m\u001b[43m,\u001b[49m\n\u001b[1;32m    255\u001b[0m \u001b[43m    \u001b[49m\u001b[43mcreate_graph\u001b[49m\u001b[43m,\u001b[49m\n\u001b[1;32m    256\u001b[0m \u001b[43m    \u001b[49m\u001b[43minputs\u001b[49m\u001b[43m,\u001b[49m\n\u001b[1;32m    257\u001b[0m \u001b[43m    \u001b[49m\u001b[43mallow_unreachable\u001b[49m\u001b[38;5;241;43m=\u001b[39;49m\u001b[38;5;28;43;01mTrue\u001b[39;49;00m\u001b[43m,\u001b[49m\n\u001b[1;32m    258\u001b[0m \u001b[43m    \u001b[49m\u001b[43maccumulate_grad\u001b[49m\u001b[38;5;241;43m=\u001b[39;49m\u001b[38;5;28;43;01mTrue\u001b[39;49;00m\u001b[43m,\u001b[49m\n\u001b[1;32m    259\u001b[0m \u001b[43m\u001b[49m\u001b[43m)\u001b[49m\n",
      "\u001b[0;31mKeyboardInterrupt\u001b[0m: "
     ]
    }
   ],
   "source": [
    "from tqdm import trange\n",
    "\n",
    "model=AutoRegressiveTransformer()\n",
    "\n",
    "num_epochs=100\n",
    "\n",
    "optimizer = torch.optim.Adam(model.parameters(), lr=1e-4)\n",
    "criterion = nn.MSELoss()\n",
    "\n",
    "train_loss=0.\n",
    "for epoch in trange(num_epochs):\n",
    "    for h_seq, f_seq in train_loader:\n",
    "        h_seq=h_seq[:,:500]\n",
    "        f_seq=f_seq[:,:500]\n",
    "        input_seq = torch.cat([h_seq, f_seq], dim=-1)  # [batch, T, 2]\n",
    "        target = f_seq\n",
    "\n",
    "        output = model(input_seq)\n",
    "        loss = criterion(output[:, :-1], target[:, 1:])  # predict f(t+1)\n",
    "\n",
    "        optimizer.zero_grad()\n",
    "        loss.backward()\n",
    "        optimizer.step()\n",
    "        train_loss += loss.item()\n",
    "        print(loss.item())\n",
    "\n",
    "    print(f\"Epoch {epoch+1}/{EPOCHS}, Train Loss: {train_loss/len(train_loader):.6f}, \")\n",
    "    \n",
    "    \n",
    "    "
   ]
  },
  {
   "cell_type": "code",
   "execution_count": null,
   "id": "7a6e155d",
   "metadata": {},
   "outputs": [],
   "source": [
    "def autoregressive_forecast(model, h_seq, f_start, steps):\n",
    "    \"\"\"\n",
    "    h_seq: [1, T+steps, 1]  (known exogenous values)\n",
    "    f_start: [1, T, 1]      (initial known target values)\n",
    "    \"\"\"\n",
    "    preds = []\n",
    "    f_seq = f_start.clone()\n",
    "\n",
    "    for t in range(steps):\n",
    "        inp = torch.cat([h_seq[:, :f_seq.shape[1]], f_seq], dim=-1)\n",
    "        out = model(inp)\n",
    "        next_f = out[:, -1:]   # last time step\n",
    "        f_seq = torch.cat([f_seq, next_f], dim=1)\n",
    "        preds.append(next_f)\n",
    "\n",
    "    return torch.cat(preds, dim=1)  # [1, steps, 1]"
   ]
  },
  {
   "cell_type": "code",
   "execution_count": null,
   "id": "12b479c7",
   "metadata": {},
   "outputs": [],
   "source": []
  }
 ],
 "metadata": {
  "kernelspec": {
   "display_name": "tddft_env",
   "language": "python",
   "name": "python3"
  },
  "language_info": {
   "codemirror_mode": {
    "name": "ipython",
    "version": 3
   },
   "file_extension": ".py",
   "mimetype": "text/x-python",
   "name": "python",
   "nbconvert_exporter": "python",
   "pygments_lexer": "ipython3",
   "version": "3.9.0"
  }
 },
 "nbformat": 4,
 "nbformat_minor": 5
}
