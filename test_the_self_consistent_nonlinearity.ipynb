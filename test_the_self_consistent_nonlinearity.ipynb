{
 "cells": [
  {
   "cell_type": "markdown",
   "metadata": {},
   "source": [
    "## Check the self-consistency of the Non linear Step in the schrodinger equation"
   ]
  },
  {
   "cell_type": "markdown",
   "metadata": {},
   "source": [
    "### Schrodinger equation case"
   ]
  },
  {
   "cell_type": "markdown",
   "metadata": {},
   "source": [
    "### Master equation case"
   ]
  },
  {
   "cell_type": "markdown",
   "metadata": {},
   "source": [
    "Import"
   ]
  },
  {
   "cell_type": "code",
   "execution_count": 1,
   "metadata": {},
   "outputs": [],
   "source": [
    "import torch\n",
    "import numpy as np\n",
    "import matplotlib.pyplot as plt\n",
    "from tqdm import trange, tqdm\n",
    "from src.training.models_adiabatic import Energy_XXZX, Energy_reduction_XXZX\n",
    "from src.qutip_lab.qutip_class import SpinOperator, SpinHamiltonian, SteadyStateSolver\n",
    "\n",
    "from src.tddft_methods.kohm_sham_utils import nonlinear_master_equation_step\n",
    "from src.gradient_descent import GradientDescentKohmSham\n",
    "from typing import List\n",
    "import os\n",
    "from src.tddft_methods.kohm_sham_utils import (\n",
    "    nonlinear_master_equation_step,\n",
    "    initialize_psi_from_z_and_x\n",
    ")"
   ]
  },
  {
   "cell_type": "markdown",
   "metadata": {},
   "source": [
    "Initialization and Data"
   ]
  },
  {
   "cell_type": "code",
   "execution_count": 3,
   "metadata": {},
   "outputs": [
    {
     "name": "stderr",
     "output_type": "stream",
     "text": [
      "/home/ecosta/tddft_project/src/gradient_descent.py:482: UserWarning: To copy construct from a tensor, it is recommended to use sourceTensor.clone().detach() or sourceTensor.clone().detach().requires_grad_(True), rather than torch.tensor(sourceTensor).\n",
      "  m_init = pt.tensor(self.n_init, dtype=pt.double).unsqueeze(0)\n",
      "/home/ecosta/tddft_project/src/gradient_descent.py:513: UserWarning: To copy construct from a tensor, it is recommended to use sourceTensor.clone().detach() or sourceTensor.clone().detach().requires_grad_(True), rather than torch.tensor(sourceTensor).\n",
      "  pot = pt.tensor(self.h, device=self.device).unsqueeze(0)\n"
     ]
    },
    {
     "name": "stdout",
     "output_type": "stream",
     "text": [
      "(6000, 2, 8)\n",
      "loading the model...\n",
      "starting the cycle...\n",
      "torch.Size([1, 2, 8])\n",
      "is leaf=True\n"
     ]
    },
    {
     "name": "stderr",
     "output_type": "stream",
     "text": [
      "eng=-16.987511 , :   0%|          | 6/5000 [00:00<01:28, 56.59it/s]"
     ]
    },
    {
     "name": "stderr",
     "output_type": "stream",
     "text": [
      "eng=-17.219420 , : 100%|██████████| 5000/5000 [01:47<00:00, 46.59it/s] \n"
     ]
    }
   ],
   "source": [
    "data = np.load(\n",
    "    \"data/kohm_sham_approach/disorder/2_input_channel_dataset_h_mixed_0.0_5.0_h_0.0-2.0_j_1_1nn_n_6000.npz\"\n",
    ")\n",
    "\n",
    "\n",
    "z = data[\"density\"]\n",
    "\n",
    "print(z.shape)\n",
    "\n",
    "l = z.shape[-1]\n",
    "\n",
    "model = torch.load(\n",
    "    \"model_rep/kohm_sham/disorder/model_zzxz_2_input_channel_dataset_h_mixed_0.0_5.0_h_0.0-2.0_j_1_1nn_n_500k_unet_l_train_8_[40, 40, 40, 40, 40, 40]_hc_5_ks_1_ps_6_nconv_0_nblock\",\n",
    "    map_location=\"cpu\",\n",
    ")\n",
    "model.eval()\n",
    "model = model.to(dtype=torch.double)\n",
    "energy = Energy_XXZX(model=model)\n",
    "energy.eval()\n",
    "# Implement the Kohm Sham LOOP\n",
    "z_target = torch.from_numpy(z).double()\n",
    "\n",
    "# initialization\n",
    "exponent_algorithm = True\n",
    "self_consistent_step = 30\n",
    "eta = 0.1\n",
    "steps = 1000\n",
    "tf = 10.0\n",
    "time = torch.linspace(0.0, tf, steps)\n",
    "dt = time[1] - time[0]\n",
    "\n",
    "ndata = 10\n",
    "rates = np.linspace(0.0, 0.2, ndata)\n",
    "\n",
    "rates\n",
    "\n",
    "hi = torch.ones((2, l))\n",
    "hi[1] = 2.0  # high transverse field\n",
    "hi[0] = 0.5\n",
    "# define the final external field\n",
    "hf = torch.ones((2, l))\n",
    "hf[1] = 1.0\n",
    "hf[0] = 0.5\n",
    "\n",
    "\n",
    "# define the delta for the periodic driving\n",
    "delta = torch.ones((2, l))\n",
    "delta[1] = 0.9\n",
    "delta[0] = 0.0\n",
    "\n",
    "gd = GradientDescentKohmSham(\n",
    "    loglr=-3,\n",
    "    energy=energy,\n",
    "    epochs=5000,\n",
    "    seed=23,\n",
    "    num_threads=3,\n",
    "    device=\"cpu\",\n",
    "    n_init=torch.mean(z_target, dim=0),\n",
    "    h=hi,\n",
    ")\n",
    "\n",
    "rate=0.1\n",
    "\n",
    "zi = gd.run()\n",
    "zi = torch.from_numpy(zi)[0]\n",
    "\n",
    "psi0 = initialize_psi_from_z_and_x(z=-1 * zi[0], x=zi[1])\n",
    "\n",
    "psi0=torch.zeros((l,3))\n",
    "psi0[:,0]=zi[1]\n",
    "psi0[:,2]=zi[0]\n"
   ]
  },
  {
   "cell_type": "markdown",
   "metadata": {},
   "source": [
    "Time hyperameters"
   ]
  },
  {
   "cell_type": "code",
   "execution_count": 4,
   "metadata": {},
   "outputs": [
    {
     "name": "stdout",
     "output_type": "stream",
     "text": [
      "torch.Size([2, 8])\n"
     ]
    },
    {
     "data": {
      "image/png": "[encoded data removed]",
      "text/plain": [
       "<Figure size 432x288 with 1 Axes>"
      ]
     },
     "metadata": {
      "needs_background": "light"
     },
     "output_type": "display_data"
    }
   ],
   "source": [
    "print(hi.shape)\n",
    "steps = 1000\n",
    "tf = 10.0\n",
    "time = torch.linspace(0.0, tf, steps)\n",
    "\n",
    "h=hi[None,:,:]*torch.exp(-rate*time[:,None,None])+(1-torch.exp(-rate*time[:,None,None]))*hf[None,:,:]\n",
    "\n",
    "\n",
    "plt.plot(time,h[:,1].detach().numpy())\n",
    "plt.show()"
   ]
  },
  {
   "cell_type": "markdown",
   "metadata": {},
   "source": [
    "Test the step"
   ]
  },
  {
   "cell_type": "code",
   "execution_count": 6,
   "metadata": {},
   "outputs": [],
   "source": [
    "x_self_consistency:List=[]\n",
    "y_self_consistency:List=[]\n",
    "z_self_consistency:List=[]\n",
    "\n",
    "scs=np.arange(2,10)\n",
    "\n",
    "for self_consistent_step in (scs):\n",
    "    psi,_,_,_,_=nonlinear_master_equation_step(psi=psi0,energy=energy,i=0,h=h,self_consistent_step=self_consistent_step,dt=dt,eta=None)\n",
    "    x_self_consistency.append(np.abs(psi[0,0].detach().numpy()))\n",
    "    y_self_consistency.append(np.abs(psi[0,1].detach().numpy()))\n",
    "    z_self_consistency.append(np.abs(psi[0,2].detach().numpy()))"
   ]
  },
  {
   "cell_type": "markdown",
   "metadata": {},
   "source": [
    "Plots"
   ]
  },
  {
   "cell_type": "code",
   "execution_count": 7,
   "metadata": {},
   "outputs": [
    {
     "data": {
      "image/png": "[encoded data removed]",
      "text/plain": [
       "<Figure size 432x288 with 1 Axes>"
      ]
     },
     "metadata": {
      "needs_background": "light"
     },
     "output_type": "display_data"
    },
    {
     "data": {
      "image/png": "[encoded data removed]",
      "text/plain": [
       "<Figure size 432x288 with 1 Axes>"
      ]
     },
     "metadata": {
      "needs_background": "light"
     },
     "output_type": "display_data"
    },
    {
     "data": {
      "image/png": "[encoded data removed]",
      "text/plain": [
       "<Figure size 432x288 with 1 Axes>"
      ]
     },
     "metadata": {
      "needs_background": "light"
     },
     "output_type": "display_data"
    }
   ],
   "source": [
    "plt.plot(scs,x_self_consistency)\n",
    "plt.xlabel(r'# iteration',fontsize=20)\n",
    "plt.ylabel(r'$\\Delta x$',fontsize=20)\n",
    "plt.semilogy()\n",
    "plt.show()\n",
    "\n",
    "plt.plot(scs,y_self_consistency)\n",
    "plt.xlabel(r'# iteration',fontsize=20)\n",
    "plt.ylabel(r'$\\Delta y$',fontsize=20)\n",
    "plt.semilogy()\n",
    "plt.show()\n",
    "\n",
    "\n",
    "plt.plot(scs,z_self_consistency)\n",
    "plt.xlabel(r'# iteration',fontsize=20)\n",
    "plt.ylabel(r'$\\Delta z$',fontsize=20)\n",
    "plt.semilogy()\n",
    "plt.show()"
   ]
  },
  {
   "cell_type": "markdown",
   "metadata": {},
   "source": [
    "Import"
   ]
  },
  {
   "cell_type": "code",
   "execution_count": 1,
   "metadata": {},
   "outputs": [],
   "source": [
    "import torch\n",
    "import numpy as np\n",
    "import matplotlib.pyplot as plt\n",
    "from tqdm import trange, tqdm\n",
    "from src.training.models_adiabatic import Energy_XXZX, Energy_reduction_XXZX\n",
    "from src.qutip_lab.qutip_class import SpinOperator, SpinHamiltonian, SteadyStateSolver\n",
    "\n",
    "from src.tddft_methods.kohm_sham_utils import nonlinear_master_equation_step\n",
    "from src.gradient_descent import GradientDescentKohmSham\n",
    "from typing import List\n",
    "import os\n",
    "from src.tddft_methods.kohm_sham_utils import (\n",
    "    nonlinear_schrodinger_step,\n",
    "    initialize_psi_from_z_and_x\n",
    ")"
   ]
  },
  {
   "cell_type": "markdown",
   "metadata": {},
   "source": [
    "Initialization and Data"
   ]
  },
  {
   "cell_type": "code",
   "execution_count": 2,
   "metadata": {},
   "outputs": [
    {
     "name": "stderr",
     "output_type": "stream",
     "text": [
      "/home/ecosta/tddft_project/src/gradient_descent.py:482: UserWarning: To copy construct from a tensor, it is recommended to use sourceTensor.clone().detach() or sourceTensor.clone().detach().requires_grad_(True), rather than torch.tensor(sourceTensor).\n",
      "  m_init = pt.tensor(self.n_init, dtype=pt.double).unsqueeze(0)\n",
      "/home/ecosta/tddft_project/src/gradient_descent.py:513: UserWarning: To copy construct from a tensor, it is recommended to use sourceTensor.clone().detach() or sourceTensor.clone().detach().requires_grad_(True), rather than torch.tensor(sourceTensor).\n",
      "  pot = pt.tensor(self.h, device=self.device).unsqueeze(0)\n"
     ]
    },
    {
     "name": "stdout",
     "output_type": "stream",
     "text": [
      "(6000, 2, 8)\n",
      "loading the model...\n",
      "starting the cycle...\n",
      "torch.Size([1, 2, 8])\n",
      "is leaf=True\n"
     ]
    },
    {
     "name": "stderr",
     "output_type": "stream",
     "text": [
      "  0%|          | 0/5000 [00:00<?, ?it/s]"
     ]
    },
    {
     "name": "stderr",
     "output_type": "stream",
     "text": [
      "eng=-17.219420 , : 100%|██████████| 5000/5000 [00:29<00:00, 167.31it/s]\n"
     ]
    }
   ],
   "source": [
    "data = np.load(\n",
    "    \"data/kohm_sham_approach/disorder/2_input_channel_dataset_h_mixed_0.0_5.0_h_0.0-2.0_j_1_1nn_n_6000.npz\"\n",
    ")\n",
    "\n",
    "\n",
    "z = data[\"density\"]\n",
    "\n",
    "print(z.shape)\n",
    "\n",
    "l = z.shape[-1]\n",
    "\n",
    "model = torch.load(\n",
    "    \"model_rep/kohm_sham/disorder/model_zzxz_2_input_channel_dataset_h_mixed_0.0_5.0_h_0.0-2.0_j_1_1nn_n_500k_unet_l_train_8_[40, 40, 40, 40, 40, 40]_hc_5_ks_1_ps_6_nconv_0_nblock\",\n",
    "    map_location=\"cpu\",\n",
    ")\n",
    "model.eval()\n",
    "model = model.to(dtype=torch.double)\n",
    "energy = Energy_XXZX(model=model)\n",
    "energy.eval()\n",
    "# Implement the Kohm Sham LOOP\n",
    "z_target = torch.from_numpy(z).double()\n",
    "\n",
    "# initialization\n",
    "exponent_algorithm = True\n",
    "self_consistent_step = 30\n",
    "eta = 0.1\n",
    "steps = 1000\n",
    "tf = 10.0\n",
    "time = torch.linspace(0.0, tf, steps)\n",
    "dt = time[1] - time[0]\n",
    "\n",
    "ndata = 10\n",
    "rates = np.linspace(0.0, 0.2, ndata)\n",
    "\n",
    "rates\n",
    "\n",
    "hi = torch.ones((2, l))\n",
    "hi[1] = 2.0  # high transverse field\n",
    "hi[0] = 0.5\n",
    "# define the final external field\n",
    "hf = torch.ones((2, l))\n",
    "hf[1] = 1.0\n",
    "hf[0] = 0.5\n",
    "\n",
    "\n",
    "# define the delta for the periodic driving\n",
    "delta = torch.ones((2, l))\n",
    "delta[1] = 0.9\n",
    "delta[0] = 0.0\n",
    "\n",
    "gd = GradientDescentKohmSham(\n",
    "    loglr=-3,\n",
    "    energy=energy,\n",
    "    epochs=5000,\n",
    "    seed=23,\n",
    "    num_threads=3,\n",
    "    device=\"cpu\",\n",
    "    n_init=torch.mean(z_target, dim=0),\n",
    "    h=hi,\n",
    ")\n",
    "\n",
    "rate=0.1\n",
    "\n",
    "zi = gd.run()\n",
    "zi = torch.from_numpy(zi)[0]\n",
    "\n",
    "psi0 = initialize_psi_from_z_and_x(z=-1 * zi[0], x=zi[1])\n",
    "\n"
   ]
  },
  {
   "cell_type": "markdown",
   "metadata": {},
   "source": [
    "Time hyperameters"
   ]
  },
  {
   "cell_type": "code",
   "execution_count": 15,
   "metadata": {},
   "outputs": [
    {
     "name": "stdout",
     "output_type": "stream",
     "text": [
      "torch.Size([2, 8])\n"
     ]
    },
    {
     "data": {
      "image/png": "[encoded data removed]",
      "text/plain": [
       "<Figure size 432x288 with 1 Axes>"
      ]
     },
     "metadata": {
      "needs_background": "light"
     },
     "output_type": "display_data"
    }
   ],
   "source": [
    "print(hi.shape)\n",
    "steps = 1000\n",
    "tf = 10.0\n",
    "time = torch.linspace(0.0, tf, steps)\n",
    "\n",
    "h=hi[None,:,:]*torch.exp(-rate*time[:,None,None])+(1-torch.exp(-rate*time[:,None,None]))*hf[None,:,:]\n",
    "\n",
    "\n",
    "plt.plot(time,h[:,1].detach().numpy())\n",
    "plt.show()"
   ]
  },
  {
   "cell_type": "markdown",
   "metadata": {},
   "source": [
    "Test the step"
   ]
  },
  {
   "cell_type": "code",
   "execution_count": 16,
   "metadata": {},
   "outputs": [
    {
     "name": "stderr",
     "output_type": "stream",
     "text": [
      "0it [00:00, ?it/s]\n",
      "  0%|          | 0/1 [00:00<?, ?it/s]"
     ]
    },
    {
     "name": "stderr",
     "output_type": "stream",
     "text": [
      "100%|██████████| 1/1 [00:00<00:00, 45.05it/s]\n",
      "100%|██████████| 2/2 [00:00<00:00, 97.40it/s]\n",
      "100%|██████████| 3/3 [00:00<00:00, 52.34it/s]\n",
      "100%|██████████| 4/4 [00:00<00:00, 51.85it/s]\n",
      "100%|██████████| 5/5 [00:00<00:00, 72.19it/s]\n",
      "100%|██████████| 6/6 [00:00<00:00, 76.99it/s]\n",
      "100%|██████████| 7/7 [00:00<00:00, 58.31it/s]\n",
      "100%|██████████| 8/8 [00:00<00:00, 67.33it/s]\n",
      "100%|██████████| 9/9 [00:00<00:00, 64.66it/s]\n"
     ]
    }
   ],
   "source": [
    "x_self_consistency:List=[]\n",
    "y_self_consistency:List=[]\n",
    "z_self_consistency:List=[]\n",
    "\n",
    "scs=np.arange(10)\n",
    "\n",
    "for self_consistent_step in (scs):\n",
    "    psi,_,_,_,x,y,z=nonlinear_schrodinger_step(psi=psi0,energy=energy,i=0,h=h,self_consistent_step=self_consistent_step,dt=dt,eta=None,exponent_algorithm=True)\n",
    "    x_self_consistency.append(np.abs(x[0].detach().numpy()))\n",
    "    y_self_consistency.append(np.abs(y[0].detach().numpy()))\n",
    "    z_self_consistency.append(np.abs(z[0].detach().numpy()))"
   ]
  },
  {
   "cell_type": "markdown",
   "metadata": {},
   "source": [
    "Plots"
   ]
  },
  {
   "cell_type": "code",
   "execution_count": 17,
   "metadata": {},
   "outputs": [
    {
     "data": {
      "image/png": "[encoded data removed]",
      "text/plain": [
       "<Figure size 432x288 with 1 Axes>"
      ]
     },
     "metadata": {
      "needs_background": "light"
     },
     "output_type": "display_data"
    },
    {
     "data": {
      "image/png": "[encoded data removed]",
      "text/plain": [
       "<Figure size 432x288 with 1 Axes>"
      ]
     },
     "metadata": {
      "needs_background": "light"
     },
     "output_type": "display_data"
    },
    {
     "data": {
      "image/png": "[encoded data removed]",
      "text/plain": [
       "<Figure size 432x288 with 1 Axes>"
      ]
     },
     "metadata": {
      "needs_background": "light"
     },
     "output_type": "display_data"
    }
   ],
   "source": [
    "plt.plot(scs,x_self_consistency)\n",
    "plt.xlabel(r'# iteration',fontsize=20)\n",
    "plt.ylabel(r'$\\Delta x$',fontsize=20)\n",
    "plt.semilogy()\n",
    "plt.show()\n",
    "\n",
    "plt.plot(scs,y_self_consistency)\n",
    "plt.xlabel(r'# iteration',fontsize=20)\n",
    "plt.ylabel(r'$\\Delta y$',fontsize=20)\n",
    "plt.semilogy()\n",
    "plt.show()\n",
    "\n",
    "\n",
    "plt.plot(scs,z_self_consistency)\n",
    "plt.xlabel(r'# iteration',fontsize=20)\n",
    "plt.ylabel(r'$\\Delta z$',fontsize=20)\n",
    "plt.semilogy()\n",
    "plt.show()"
   ]
  }
 ],
 "metadata": {
  "kernelspec": {
   "display_name": "dft_env",
   "language": "python",
   "name": "python3"
  },
  "language_info": {
   "codemirror_mode": {
    "name": "ipython",
    "version": 3
   },
   "file_extension": ".py",
   "mimetype": "text/x-python",
   "name": "python",
   "nbconvert_exporter": "python",
   "pygments_lexer": "ipython3",
   "version": "3.9.7"
  },
  "orig_nbformat": 4
 },
 "nbformat": 4,
 "nbformat_minor": 2
}
