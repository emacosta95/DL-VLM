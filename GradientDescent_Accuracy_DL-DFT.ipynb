{
 "cells": [
  {
   "attachments": {},
   "cell_type": "markdown",
   "metadata": {},
   "source": [
    "## Gradient Descent of the DL-DFT model with the magnetization density"
   ]
  },
  {
   "attachments": {},
   "cell_type": "markdown",
   "metadata": {},
   "source": [
    "### 1 channel input case"
   ]
  },
  {
   "attachments": {},
   "cell_type": "markdown",
   "metadata": {},
   "source": [
    "Imports"
   ]
  },
  {
   "cell_type": "code",
   "execution_count": 3,
   "metadata": {},
   "outputs": [],
   "source": [
    "from src.training.models_adiabatic import Energy_XXZX_1input\n",
    "from src.gradient_descent import GradientDescent\n",
    "import torch\n",
    "import numpy as np"
   ]
  },
  {
   "attachments": {},
   "cell_type": "markdown",
   "metadata": {},
   "source": [
    "Data"
   ]
  },
  {
   "cell_type": "code",
   "execution_count": 4,
   "metadata": {},
   "outputs": [
    {
     "name": "stdout",
     "output_type": "stream",
     "text": [
      "(150000, 2, 8)\n"
     ]
    },
    {
     "data": {
      "text/plain": [
       "TDDFTadiabaticModel(\n",
       "  (conv_downsample): ModuleList(\n",
       "    (0): Sequential(\n",
       "      (conv1): Conv1d(1, 40, kernel_size=(5,), stride=(1,), padding=(2,), padding_mode=circular)\n",
       "      (activation 1): GELU()\n",
       "    )\n",
       "    (1): Sequential(\n",
       "      (conv2): Conv1d(40, 40, kernel_size=(5,), stride=(1,), padding=(2,), padding_mode=circular)\n",
       "      (activation 2): GELU()\n",
       "    )\n",
       "    (2): Sequential(\n",
       "      (conv3): Conv1d(40, 40, kernel_size=(5,), stride=(1,), padding=(2,), padding_mode=circular)\n",
       "      (activation 3): GELU()\n",
       "    )\n",
       "    (3): Sequential(\n",
       "      (conv4): Conv1d(40, 40, kernel_size=(5,), stride=(1,), padding=(2,), padding_mode=circular)\n",
       "      (activation 4): GELU()\n",
       "    )\n",
       "    (4): Sequential(\n",
       "      (conv5): Conv1d(40, 40, kernel_size=(5,), stride=(1,), padding=(2,), padding_mode=circular)\n",
       "      (activation 5): GELU()\n",
       "    )\n",
       "    (5): Sequential(\n",
       "      (conv6): Conv1d(40, 40, kernel_size=(5,), stride=(1,), padding=(2,), padding_mode=circular)\n",
       "      (activation_6): GELU()\n",
       "    )\n",
       "  )\n",
       "  (conv_upsample): ModuleList(\n",
       "    (0): Sequential(\n",
       "      (trans_conv1): Conv1d(40, 40, kernel_size=(5,), stride=(1,), padding=(2,), padding_mode=circular)\n",
       "      (activation 1): GELU()\n",
       "    )\n",
       "    (1): Sequential(\n",
       "      (trans_conv2): Conv1d(40, 40, kernel_size=(5,), stride=(1,), padding=(2,), padding_mode=circular)\n",
       "      (activation 2): GELU()\n",
       "    )\n",
       "    (2): Sequential(\n",
       "      (trans_conv3): Conv1d(40, 40, kernel_size=(5,), stride=(1,), padding=(2,), padding_mode=circular)\n",
       "      (activation 3): GELU()\n",
       "    )\n",
       "    (3): Sequential(\n",
       "      (trans_conv4): Conv1d(40, 40, kernel_size=(5,), stride=(1,), padding=(2,), padding_mode=circular)\n",
       "      (activation 4): GELU()\n",
       "    )\n",
       "    (4): Sequential(\n",
       "      (trans_conv5): Conv1d(40, 40, kernel_size=(5,), stride=(1,), padding=(2,), padding_mode=circular)\n",
       "      (activation 5): GELU()\n",
       "    )\n",
       "    (5): Sequential(\n",
       "      (trans_conv6): Conv1d(40, 2, kernel_size=(5,), stride=(1,), padding=(2,))\n",
       "    )\n",
       "  )\n",
       "  (Activation): GELU()\n",
       "  (loss): MSELoss()\n",
       ")"
      ]
     },
     "execution_count": 4,
     "metadata": {},
     "output_type": "execute_result"
    }
   ],
   "source": [
    "data=np.load('data/kohm_sham_approach/disorder/reduction_1_input_channel_dataset_h_2.7_omega_2.7_j_1_1nn_n_150000.npz')\n",
    "\n",
    "ndata=1000\n",
    "\n",
    "z=data['density']\n",
    "f=data['density_F']\n",
    "h=data['potential']\n",
    "e=data['energy']\n",
    "\n",
    "print(h.shape)\n",
    "z_torch=torch.from_numpy(z[:ndata])\n",
    "f_torch=torch.from_numpy(f[:ndata])\n",
    "h_torch=torch.from_numpy(h[:ndata])\n",
    "e_torch=torch.from_numpy(e[:ndata])\n",
    "\n",
    "\n",
    "model=torch.load('model_rep/kohm_sham/disorder/model_zzxz_reduction_1_input_channel_f_h_2.7_omega_2.7_j_1_1nn_150k_unet_l_train_8_[40, 40, 40, 40, 40, 40]_hc_5_ks_1_ps_6_nconv_0_nblock',map_location='cpu')\n",
    "model.eval()"
   ]
  },
  {
   "attachments": {},
   "cell_type": "markdown",
   "metadata": {},
   "source": [
    "Load The gradient Descent Class"
   ]
  },
  {
   "cell_type": "code",
   "execution_count": null,
   "metadata": {},
   "outputs": [],
   "source": [
    "energy=Energy_XXZX_1input(model=model)\n",
    "\n",
    "gd=gd = GradientDescent(\n",
    "    n_instances=2,\n",
    "    run_name='bla',\n",
    "    loglr=-1,\n",
    "    n_init=z_torch,\n",
    "    cut=2,\n",
    "    n_ensambles=1,\n",
    "    target_path='data/kohm_sham_approach/disorder/reduction_1_input_channel_dataset_h_2.7_costant_omega_1.0_j_1_1nn_n_150000.npz',\n",
    "    epochs=2000,\n",
    "    variable_lr=False,\n",
    "    early_stopping=False,\n",
    "    L=8,\n",
    "    resolution=1,\n",
    "    final_lr=10,\n",
    "    num_threads=10,\n",
    "    device='cpu',\n",
    "    seed=235,\n",
    "    logdiffsoglia=10,\n",
    "    save=False,\n",
    "    energy=energy\n",
    ")\n",
    "\n",
    "gd.run()\n"
   ]
  },
  {
   "attachments": {},
   "cell_type": "markdown",
   "metadata": {},
   "source": [
    "### Two channels input case"
   ]
  },
  {
   "cell_type": "markdown",
   "metadata": {},
   "source": [
    "Imports"
   ]
  },
  {
   "cell_type": "code",
   "execution_count": null,
   "metadata": {},
   "outputs": [],
   "source": [
    "from src.training.models_adiabatic import Energy_XXZX_1input\n",
    "from src.gradient_descent import GradientDescent\n",
    "import torch\n",
    "import numpy as np"
   ]
  },
  {
   "cell_type": "markdown",
   "metadata": {},
   "source": [
    "Data"
   ]
  },
  {
   "cell_type": "code",
   "execution_count": null,
   "metadata": {},
   "outputs": [
    {
     "name": "stdout",
     "output_type": "stream",
     "text": [
      "(150000, 2, 8)\n"
     ]
    },
    {
     "data": {
      "text/plain": [
       "TDDFTadiabaticModel(\n",
       "  (conv_downsample): ModuleList(\n",
       "    (0): Sequential(\n",
       "      (conv1): Conv1d(1, 40, kernel_size=(5,), stride=(1,), padding=(2,), padding_mode=circular)\n",
       "      (activation 1): GELU()\n",
       "    )\n",
       "    (1): Sequential(\n",
       "      (conv2): Conv1d(40, 40, kernel_size=(5,), stride=(1,), padding=(2,), padding_mode=circular)\n",
       "      (activation 2): GELU()\n",
       "    )\n",
       "    (2): Sequential(\n",
       "      (conv3): Conv1d(40, 40, kernel_size=(5,), stride=(1,), padding=(2,), padding_mode=circular)\n",
       "      (activation 3): GELU()\n",
       "    )\n",
       "    (3): Sequential(\n",
       "      (conv4): Conv1d(40, 40, kernel_size=(5,), stride=(1,), padding=(2,), padding_mode=circular)\n",
       "      (activation 4): GELU()\n",
       "    )\n",
       "    (4): Sequential(\n",
       "      (conv5): Conv1d(40, 40, kernel_size=(5,), stride=(1,), padding=(2,), padding_mode=circular)\n",
       "      (activation 5): GELU()\n",
       "    )\n",
       "    (5): Sequential(\n",
       "      (conv6): Conv1d(40, 40, kernel_size=(5,), stride=(1,), padding=(2,), padding_mode=circular)\n",
       "      (activation_6): GELU()\n",
       "    )\n",
       "  )\n",
       "  (conv_upsample): ModuleList(\n",
       "    (0): Sequential(\n",
       "      (trans_conv1): Conv1d(40, 40, kernel_size=(5,), stride=(1,), padding=(2,), padding_mode=circular)\n",
       "      (activation 1): GELU()\n",
       "    )\n",
       "    (1): Sequential(\n",
       "      (trans_conv2): Conv1d(40, 40, kernel_size=(5,), stride=(1,), padding=(2,), padding_mode=circular)\n",
       "      (activation 2): GELU()\n",
       "    )\n",
       "    (2): Sequential(\n",
       "      (trans_conv3): Conv1d(40, 40, kernel_size=(5,), stride=(1,), padding=(2,), padding_mode=circular)\n",
       "      (activation 3): GELU()\n",
       "    )\n",
       "    (3): Sequential(\n",
       "      (trans_conv4): Conv1d(40, 40, kernel_size=(5,), stride=(1,), padding=(2,), padding_mode=circular)\n",
       "      (activation 4): GELU()\n",
       "    )\n",
       "    (4): Sequential(\n",
       "      (trans_conv5): Conv1d(40, 40, kernel_size=(5,), stride=(1,), padding=(2,), padding_mode=circular)\n",
       "      (activation 5): GELU()\n",
       "    )\n",
       "    (5): Sequential(\n",
       "      (trans_conv6): Conv1d(40, 2, kernel_size=(5,), stride=(1,), padding=(2,))\n",
       "    )\n",
       "  )\n",
       "  (Activation): GELU()\n",
       "  (loss): MSELoss()\n",
       ")"
      ]
     },
     "metadata": {},
     "output_type": "display_data"
    }
   ],
   "source": [
    "data=np.load('data/kohm_sham_approach/disorder/reduction_1_input_channel_dataset_h_2.7_omega_2.7_j_1_1nn_n_150000.npz')\n",
    "\n",
    "ndata=1000\n",
    "\n",
    "z=data['density']\n",
    "f=data['density_F']\n",
    "h=data['potential']\n",
    "e=data['energy']\n",
    "\n",
    "print(h.shape)\n",
    "z_torch=torch.from_numpy(z[:ndata])\n",
    "f_torch=torch.from_numpy(f[:ndata])\n",
    "h_torch=torch.from_numpy(h[:ndata])\n",
    "e_torch=torch.from_numpy(e[:ndata])\n",
    "\n",
    "\n",
    "model=torch.load('model_rep/kohm_sham/disorder/model_zzxz_reduction_1_input_channel_f_h_2.7_omega_2.7_j_1_1nn_150k_unet_l_train_8_[40, 40, 40, 40, 40, 40]_hc_5_ks_1_ps_6_nconv_0_nblock',map_location='cpu')\n",
    "model.eval()"
   ]
  },
  {
   "cell_type": "markdown",
   "metadata": {},
   "source": [
    "Load The gradient Descent Class"
   ]
  },
  {
   "cell_type": "code",
   "execution_count": null,
   "metadata": {},
   "outputs": [],
   "source": [
    "energy=Energy_XXZX_1input(model=model)\n",
    "\n",
    "gd=gd = GradientDescent(\n",
    "    n_instances=2,\n",
    "    run_name='bla',\n",
    "    loglr=-1,\n",
    "    n_init=z_torch,\n",
    "    cut=2,\n",
    "    n_ensambles=1,\n",
    "    target_path='data/kohm_sham_approach/disorder/reduction_1_input_channel_dataset_h_2.7_costant_omega_1.0_j_1_1nn_n_150000.npz',\n",
    "    epochs=2000,\n",
    "    variable_lr=False,\n",
    "    early_stopping=False,\n",
    "    L=8,\n",
    "    resolution=1,\n",
    "    final_lr=10,\n",
    "    num_threads=10,\n",
    "    device='cpu',\n",
    "    seed=235,\n",
    "    logdiffsoglia=10,\n",
    "    save=False,\n",
    "    energy=energy\n",
    ")\n",
    "\n",
    "gd.run()\n"
   ]
  }
 ],
 "metadata": {
  "kernelspec": {
   "display_name": "dft_env",
   "language": "python",
   "name": "python3"
  },
  "language_info": {
   "codemirror_mode": {
    "name": "ipython",
    "version": 3
   },
   "file_extension": ".py",
   "mimetype": "text/x-python",
   "name": "python",
   "nbconvert_exporter": "python",
   "pygments_lexer": "ipython3",
   "version": "3.9.7"
  },
  "orig_nbformat": 4
 },
 "nbformat": 4,
 "nbformat_minor": 2
}
