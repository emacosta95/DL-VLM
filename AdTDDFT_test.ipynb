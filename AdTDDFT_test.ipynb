{
 "cells": [
  {
   "attachments": {},
   "cell_type": "markdown",
   "metadata": {},
   "source": [
    "## Checking the Qutip Code"
   ]
  },
  {
   "attachments": {},
   "cell_type": "markdown",
   "metadata": {},
   "source": [
    "#### Imports and Data"
   ]
  },
  {
   "cell_type": "code",
   "execution_count": 14,
   "metadata": {},
   "outputs": [
    {
     "name": "stdout",
     "output_type": "stream",
     "text": [
      "10000\n"
     ]
    }
   ],
   "source": [
    "from src.qutip_lab.qutip_class import SpinOperator, SpinHamiltonian, SteadyStateSolver\n",
    "import numpy as np\n",
    "import qutip\n",
    "from tqdm import tqdm, trange\n",
    "from typing import Dict, List, Tuple, Union\n",
    "import matplotlib.pyplot as plt\n",
    "\n",
    "# size of the system\n",
    "size: int = 6\n",
    "\n",
    "# periodic boundary conditions\n",
    "pbc: bool = True\n",
    "\n",
    "# fix the random seed\n",
    "np.random.seed(12)\n",
    "\n",
    "# coupling term\n",
    "j: float = 1.\n",
    "\n",
    "#time \n",
    "tf=10.\n",
    "dt=0.001\n",
    "\n",
    "\n",
    "# time interval\n",
    "t_resolution: int = int(tf / dt)\n",
    "t: np.ndarray = np.linspace(0, tf, t_resolution)\n",
    "print(t_resolution)\n",
    "h0=0.\n",
    "delta_h=2.\n",
    "rate=0.5\n"
   ]
  },
  {
   "attachments": {},
   "cell_type": "markdown",
   "metadata": {},
   "source": [
    "#### Create the time independent Hamiltonian and the Initial state"
   ]
  },
  {
   "cell_type": "code",
   "execution_count": 15,
   "metadata": {},
   "outputs": [
    {
     "name": "stdout",
     "output_type": "stream",
     "text": [
      "Hermitian Check positive! well done! \n",
      "\n",
      "Hermitian Check positive! well done! \n",
      "\n"
     ]
    }
   ],
   "source": [
    "ham0 = SpinHamiltonian(\n",
    "            direction_couplings=[(\"z\", \"z\")],\n",
    "            field_directions=[(\"x\"), (\"z\")],\n",
    "            pbc=True,\n",
    "            coupling_values=[1.],\n",
    "            field_values=[1.0, h0],\n",
    "            size=size,\n",
    "        )\n",
    "\n",
    "\n",
    "#print(ham0.qutip_op)\n",
    "\n",
    "\n",
    "eng, psi0 = np.linalg.eigh(ham0.qutip_op)\n",
    "\n",
    "psi0 = qutip.Qobj(\n",
    "            psi0[:, 0], shape=psi0.shape, dims=([[2 for i in range(size)], [1]])\n",
    "        )\n",
    "\n"
   ]
  },
  {
   "attachments": {},
   "cell_type": "markdown",
   "metadata": {},
   "source": [
    "#### Build the Local observable"
   ]
  },
  {
   "cell_type": "code",
   "execution_count": 16,
   "metadata": {},
   "outputs": [
    {
     "name": "stdout",
     "output_type": "stream",
     "text": [
      "5.095750210681871e-18\n",
      "1.577514160966409e-16\n",
      "-3.65376132127615e-17\n",
      "2.0285422647203788e-16\n",
      "1.4864411784776266e-16\n",
      "-1.4539151133030614e-16\n"
     ]
    }
   ],
   "source": [
    "obs: List[qutip.Qobj] = []\n",
    "obs_x: List[qutip.Qobj] = []\n",
    "for i in range(size):\n",
    "    z_op = SpinOperator(index=[(\"z\", i)], coupling=[1.0], size=size, verbose=1)\n",
    "    # print(f\"x[{i}]=\", x.qutip_op, \"\\n\")\n",
    "    x_op = SpinOperator(index=[(\"x\", i)], coupling=[1.0], size=size, verbose=1)\n",
    "    print(z_op.expect_value(psi=psi0))\n",
    "    obs.append(z_op.qutip_op)\n",
    "    obs_x.append(x_op.qutip_op)"
   ]
  },
  {
   "attachments": {},
   "cell_type": "markdown",
   "metadata": {},
   "source": [
    "#### Let's make the Driving class"
   ]
  },
  {
   "cell_type": "code",
   "execution_count": 17,
   "metadata": {},
   "outputs": [],
   "source": [
    "class DrivingUniformAnnealing:\n",
    "    def __init__(\n",
    "        self,\n",
    "        t_resolution: int,\n",
    "        dt: float,\n",
    "        delta_h: float,\n",
    "        rate: float,\n",
    "    ) -> None:\n",
    "        self.t_resolution = t_resolution\n",
    "        self.dt = dt\n",
    "\n",
    "        time = np.linspace(\n",
    "            -self.dt * self.t_resolution / 2,\n",
    "            self.dt * self.t_resolution / 2,\n",
    "            self.t_resolution,\n",
    "        )\n",
    "        self.h = delta_h * (1 + np.tanh(time * rate)) / 2\n",
    "\n",
    "    def field(self, t: float, args) -> Union[np.ndarray, float]:\n",
    "\n",
    "        return self.h[int(t / self.dt) - 2]"
   ]
  },
  {
   "attachments": {},
   "cell_type": "markdown",
   "metadata": {},
   "source": [
    "#### Evolution"
   ]
  },
  {
   "cell_type": "code",
   "execution_count": 18,
   "metadata": {},
   "outputs": [],
   "source": [
    "t: np.ndarray = np.linspace(0, tf, t_resolution)\n",
    "\n",
    "\n",
    "h_qutip=np.zeros((t_resolution,size))\n",
    "ham=[ham0.qutip_op]\n",
    "for i in range(size):\n",
    "    driving = DrivingUniformAnnealing(\n",
    "                t_resolution=t_resolution,\n",
    "                dt=dt,\n",
    "                delta_h=delta_h,\n",
    "                rate=rate,\n",
    "            )\n",
    "    h_qutip[:,i]=driving.h\n",
    "    ham.append([obs[i], driving.field])\n",
    "output = qutip.sesolve(ham, psi0, t, e_ops=obs + obs_x)\n",
    "\n",
    "z_qutip=np.zeros((t_resolution,size))\n",
    "for i in range(size):\n",
    "        z_qutip[:,i] = output.expect[i]\n",
    "        \n",
    "    "
   ]
  },
  {
   "attachments": {},
   "cell_type": "markdown",
   "metadata": {},
   "source": [
    "#### Visualization"
   ]
  },
  {
   "cell_type": "code",
   "execution_count": 19,
   "metadata": {},
   "outputs": [
    {
     "data": {
      "image/png": "[encoded data removed]",
      "text/plain": [
       "<Figure size 432x288 with 1 Axes>"
      ]
     },
     "metadata": {
      "needs_background": "light"
     },
     "output_type": "display_data"
    }
   ],
   "source": [
    "plt.plot(t,z_qutip[:,0],label=r'$\\mathbf{z}$')\n",
    "plt.plot(t,h_qutip[:,0],label=r'$\\mathbf{h}$')\n",
    "plt.legend(fontsize=20)\n",
    "plt.show()"
   ]
  },
  {
   "attachments": {},
   "cell_type": "markdown",
   "metadata": {},
   "source": [
    "## Compare the Qutip Result with the Crack-Nicholson algorithm"
   ]
  },
  {
   "attachments": {},
   "cell_type": "markdown",
   "metadata": {},
   "source": [
    "#### Imports and Data (we need to use a different Environment)"
   ]
  },
  {
   "cell_type": "code",
   "execution_count": 20,
   "metadata": {},
   "outputs": [],
   "source": [
    "import torch\n",
    "import numpy as np\n",
    "import matplotlib.pyplot as plt\n",
    "from src.tddft_methods.adiabatic_tddft import AdiabaticTDDFT\n",
    "\n",
    "h_torch=torch.from_numpy(h_qutip)"
   ]
  },
  {
   "attachments": {},
   "cell_type": "markdown",
   "metadata": {},
   "source": [
    "Initial state configuration"
   ]
  },
  {
   "cell_type": "code",
   "execution_count": 21,
   "metadata": {},
   "outputs": [
    {
     "name": "stdout",
     "output_type": "stream",
     "text": [
      "tensor([0.+0.j, 0.+0.j, 0.+0.j, 0.+0.j, 0.+0.j, 0.+0.j],\n",
      "       dtype=torch.complex128)\n"
     ]
    }
   ],
   "source": [
    "psi=torch.zeros(size=(size,2),dtype=torch.complex128)\n",
    "psi[:,1]=np.sqrt((1)/2)\n",
    "psi[:,0]=np.sqrt((1)/2)\n",
    "\n",
    "print(psi[:,0]**2-psi[:,1]**2)"
   ]
  },
  {
   "attachments": {},
   "cell_type": "markdown",
   "metadata": {},
   "source": [
    "Load the Model"
   ]
  },
  {
   "cell_type": "code",
   "execution_count": 22,
   "metadata": {},
   "outputs": [
    {
     "name": "stdout",
     "output_type": "stream",
     "text": [
      "TDDFTadiabaticModel(\n",
      "  (conv_downsample): ModuleList(\n",
      "    (0): Sequential(\n",
      "      (conv1): Conv1d(1, 40, kernel_size=(5,), stride=(1,), padding=(2,), padding_mode=circular)\n",
      "      (activation 1): GELU()\n",
      "    )\n",
      "    (1): Sequential(\n",
      "      (conv2): Conv1d(40, 40, kernel_size=(5,), stride=(1,), padding=(2,), padding_mode=circular)\n",
      "      (activation 2): GELU()\n",
      "    )\n",
      "    (2): Sequential(\n",
      "      (conv3): Conv1d(40, 40, kernel_size=(5,), stride=(1,), padding=(2,), padding_mode=circular)\n",
      "      (activation 3): GELU()\n",
      "    )\n",
      "    (3): Sequential(\n",
      "      (conv4): Conv1d(40, 40, kernel_size=(5,), stride=(1,), padding=(2,), padding_mode=circular)\n",
      "      (activation 4): GELU()\n",
      "    )\n",
      "    (4): Sequential(\n",
      "      (conv5): Conv1d(40, 40, kernel_size=(5,), stride=(1,), padding=(2,), padding_mode=circular)\n",
      "      (activation 5): GELU()\n",
      "    )\n",
      "    (5): Sequential(\n",
      "      (conv6): Conv1d(40, 40, kernel_size=(5,), stride=(1,), padding=(2,), padding_mode=circular)\n",
      "      (activation_6): GELU()\n",
      "    )\n",
      "  )\n",
      "  (conv_upsample): ModuleList(\n",
      "    (0): Sequential(\n",
      "      (trans_conv1): Conv1d(40, 40, kernel_size=(5,), stride=(1,), padding=(2,), padding_mode=circular)\n",
      "      (activation 1): GELU()\n",
      "    )\n",
      "    (1): Sequential(\n",
      "      (trans_conv2): Conv1d(40, 40, kernel_size=(5,), stride=(1,), padding=(2,), padding_mode=circular)\n",
      "      (activation 2): GELU()\n",
      "    )\n",
      "    (2): Sequential(\n",
      "      (trans_conv3): Conv1d(40, 40, kernel_size=(5,), stride=(1,), padding=(2,), padding_mode=circular)\n",
      "      (activation 3): GELU()\n",
      "    )\n",
      "    (3): Sequential(\n",
      "      (trans_conv4): Conv1d(40, 40, kernel_size=(5,), stride=(1,), padding=(2,), padding_mode=circular)\n",
      "      (activation 4): GELU()\n",
      "    )\n",
      "    (4): Sequential(\n",
      "      (trans_conv5): Conv1d(40, 40, kernel_size=(5,), stride=(1,), padding=(2,), padding_mode=circular)\n",
      "      (activation 5): GELU()\n",
      "    )\n",
      "    (5): Sequential(\n",
      "      (trans_conv6): Conv1d(40, 2, kernel_size=(5,), stride=(1,), padding=(2,))\n",
      "    )\n",
      "  )\n",
      "  (Activation): GELU()\n",
      "  (loss): MSELoss()\n",
      ")\n"
     ]
    }
   ],
   "source": [
    "model=torch.load('model_rep/kohm_sham/uniform/model_zzxz_reduction_150k_unet_l_train_8_[40, 40, 40, 40, 40, 40]_hc_5_ks_1_ps_6_nconv_0_nblock',map_location='cpu')\n",
    "model.eval()\n",
    "print(model)"
   ]
  },
  {
   "attachments": {},
   "cell_type": "markdown",
   "metadata": {},
   "source": [
    "Evolution (without gradient in order to check the algorithm)"
   ]
  },
  {
   "cell_type": "code",
   "execution_count": 23,
   "metadata": {},
   "outputs": [],
   "source": [
    "run1=AdiabaticTDDFT(model=model,h=h_torch,omega=1.,device='cpu',with_grad=True)\n",
    "\n",
    "z_adiabatic=torch.zeros(size=(t.shape[0],size))\n",
    "z_adiabatic[0]=0.\n",
    "grad=torch.zeros_like(z_adiabatic)\n",
    "f=torch.zeros_like(torch.tensor(t))\n",
    "for t in t[:-1]:\n",
    "    #plt.plot(np.real(psi[:,0]))\n",
    "    psi=run1.time_step(dt=dt,t=t,psi=psi)\n",
    "    grad[int(t/dt)+1,:]=run1.grad\n",
    "    f[int(t/dt)+1]=run1.f_values\n",
    "    z_adiabatic[int(t/dt)+1,:]=run1.compute_magnetization(psi=psi)"
   ]
  },
  {
   "attachments": {},
   "cell_type": "markdown",
   "metadata": {},
   "source": [
    "#### Visualization"
   ]
  },
  {
   "cell_type": "code",
   "execution_count": 24,
   "metadata": {},
   "outputs": [
    {
     "data": {
      "image/png": "[encoded data removed]",
      "text/plain": [
       "<Figure size 432x288 with 1 Axes>"
      ]
     },
     "metadata": {
      "needs_background": "light"
     },
     "output_type": "display_data"
    }
   ],
   "source": [
    "plt.plot(z_qutip[:,0],label=r'$\\mathbf{z}$')\n",
    "plt.plot(z_adiabatic[:,0].detach().numpy(),label=r'$\\mathbf{z}_{C-N}$')\n",
    "plt.plot(h_qutip[:,0],label=r'$\\mathbf{h}$')\n",
    "plt.legend(fontsize=20)\n",
    "plt.show()"
   ]
  },
  {
   "attachments": {},
   "cell_type": "markdown",
   "metadata": {},
   "source": [
    "We checked that the Crank-Nicholson Algorithm works perfectely for $\\Delta t=0.001$. We checked the result in this notebook."
   ]
  }
 ],
 "metadata": {
  "kernelspec": {
   "display_name": "dft_env",
   "language": "python",
   "name": "python3"
  },
  "language_info": {
   "codemirror_mode": {
    "name": "ipython",
    "version": 3
   },
   "file_extension": ".py",
   "mimetype": "text/x-python",
   "name": "python",
   "nbconvert_exporter": "python",
   "pygments_lexer": "ipython3",
   "version": "3.9.7"
  },
  "orig_nbformat": 4
 },
 "nbformat": 4,
 "nbformat_minor": 2
}
